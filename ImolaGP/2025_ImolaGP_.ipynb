{
  "nbformat": 4,
  "nbformat_minor": 0,
  "metadata": {
    "colab": {
      "provenance": []
    },
    "kernelspec": {
      "name": "python3",
      "display_name": "Python 3"
    },
    "language_info": {
      "name": "python"
    }
  },
  "cells": [
    {
      "cell_type": "code",
      "execution_count": 24,
      "metadata": {
        "colab": {
          "base_uri": "https://localhost:8080/"
        },
        "id": "yRfphj7SajVd",
        "outputId": "9e16f0f1-09b3-4a7d-df11-667fb489c440"
      },
      "outputs": [
        {
          "output_type": "stream",
          "name": "stdout",
          "text": [
            "Requirement already satisfied: fastf1 in /usr/local/lib/python3.11/dist-packages (3.5.3)\n",
            "Requirement already satisfied: pandas in /usr/local/lib/python3.11/dist-packages (2.2.2)\n",
            "Requirement already satisfied: numpy in /usr/local/lib/python3.11/dist-packages (2.0.2)\n",
            "Requirement already satisfied: scikit-learn in /usr/local/lib/python3.11/dist-packages (1.6.1)\n",
            "Requirement already satisfied: matplotlib in /usr/local/lib/python3.11/dist-packages (3.10.0)\n",
            "Requirement already satisfied: seaborn in /usr/local/lib/python3.11/dist-packages (0.13.2)\n",
            "Requirement already satisfied: requests in /usr/local/lib/python3.11/dist-packages (2.32.3)\n",
            "Requirement already satisfied: optuna in /usr/local/lib/python3.11/dist-packages (4.3.0)\n",
            "Requirement already satisfied: lightgbm in /usr/local/lib/python3.11/dist-packages (4.5.0)\n",
            "Requirement already satisfied: prophet in /usr/local/lib/python3.11/dist-packages (1.1.6)\n",
            "Requirement already satisfied: feature-engine in /usr/local/lib/python3.11/dist-packages (1.8.3)\n",
            "Requirement already satisfied: python-dateutil in /usr/local/lib/python3.11/dist-packages (from fastf1) (2.9.0.post0)\n",
            "Requirement already satisfied: rapidfuzz in /usr/local/lib/python3.11/dist-packages (from fastf1) (3.13.0)\n",
            "Requirement already satisfied: requests-cache>=1.0.0 in /usr/local/lib/python3.11/dist-packages (from fastf1) (1.2.1)\n",
            "Requirement already satisfied: scipy<2.0.0,>=1.8.1 in /usr/local/lib/python3.11/dist-packages (from fastf1) (1.15.3)\n",
            "Requirement already satisfied: timple>=0.1.6 in /usr/local/lib/python3.11/dist-packages (from fastf1) (0.1.8)\n",
            "Requirement already satisfied: websockets<14,>=10.3 in /usr/local/lib/python3.11/dist-packages (from fastf1) (13.1)\n",
            "Requirement already satisfied: pytz>=2020.1 in /usr/local/lib/python3.11/dist-packages (from pandas) (2025.2)\n",
            "Requirement already satisfied: tzdata>=2022.7 in /usr/local/lib/python3.11/dist-packages (from pandas) (2025.2)\n",
            "Requirement already satisfied: joblib>=1.2.0 in /usr/local/lib/python3.11/dist-packages (from scikit-learn) (1.5.0)\n",
            "Requirement already satisfied: threadpoolctl>=3.1.0 in /usr/local/lib/python3.11/dist-packages (from scikit-learn) (3.6.0)\n",
            "Requirement already satisfied: contourpy>=1.0.1 in /usr/local/lib/python3.11/dist-packages (from matplotlib) (1.3.2)\n",
            "Requirement already satisfied: cycler>=0.10 in /usr/local/lib/python3.11/dist-packages (from matplotlib) (0.12.1)\n",
            "Requirement already satisfied: fonttools>=4.22.0 in /usr/local/lib/python3.11/dist-packages (from matplotlib) (4.58.0)\n",
            "Requirement already satisfied: kiwisolver>=1.3.1 in /usr/local/lib/python3.11/dist-packages (from matplotlib) (1.4.8)\n",
            "Requirement already satisfied: packaging>=20.0 in /usr/local/lib/python3.11/dist-packages (from matplotlib) (24.2)\n",
            "Requirement already satisfied: pillow>=8 in /usr/local/lib/python3.11/dist-packages (from matplotlib) (11.2.1)\n",
            "Requirement already satisfied: pyparsing>=2.3.1 in /usr/local/lib/python3.11/dist-packages (from matplotlib) (3.2.3)\n",
            "Requirement already satisfied: charset-normalizer<4,>=2 in /usr/local/lib/python3.11/dist-packages (from requests) (3.4.2)\n",
            "Requirement already satisfied: idna<4,>=2.5 in /usr/local/lib/python3.11/dist-packages (from requests) (3.10)\n",
            "Requirement already satisfied: urllib3<3,>=1.21.1 in /usr/local/lib/python3.11/dist-packages (from requests) (2.4.0)\n",
            "Requirement already satisfied: certifi>=2017.4.17 in /usr/local/lib/python3.11/dist-packages (from requests) (2025.4.26)\n",
            "Requirement already satisfied: alembic>=1.5.0 in /usr/local/lib/python3.11/dist-packages (from optuna) (1.16.1)\n",
            "Requirement already satisfied: colorlog in /usr/local/lib/python3.11/dist-packages (from optuna) (6.9.0)\n",
            "Requirement already satisfied: sqlalchemy>=1.4.2 in /usr/local/lib/python3.11/dist-packages (from optuna) (2.0.41)\n",
            "Requirement already satisfied: tqdm in /usr/local/lib/python3.11/dist-packages (from optuna) (4.67.1)\n",
            "Requirement already satisfied: PyYAML in /usr/local/lib/python3.11/dist-packages (from optuna) (6.0.2)\n",
            "Requirement already satisfied: cmdstanpy>=1.0.4 in /usr/local/lib/python3.11/dist-packages (from prophet) (1.2.5)\n",
            "Requirement already satisfied: holidays<1,>=0.25 in /usr/local/lib/python3.11/dist-packages (from prophet) (0.73)\n",
            "Requirement already satisfied: importlib-resources in /usr/local/lib/python3.11/dist-packages (from prophet) (6.5.2)\n",
            "Requirement already satisfied: statsmodels>=0.11.1 in /usr/local/lib/python3.11/dist-packages (from feature-engine) (0.14.4)\n",
            "Requirement already satisfied: Mako in /usr/lib/python3/dist-packages (from alembic>=1.5.0->optuna) (1.1.3)\n",
            "Requirement already satisfied: typing-extensions>=4.12 in /usr/local/lib/python3.11/dist-packages (from alembic>=1.5.0->optuna) (4.13.2)\n",
            "Requirement already satisfied: stanio<2.0.0,>=0.4.0 in /usr/local/lib/python3.11/dist-packages (from cmdstanpy>=1.0.4->prophet) (0.5.1)\n",
            "Requirement already satisfied: six>=1.5 in /usr/local/lib/python3.11/dist-packages (from python-dateutil->fastf1) (1.17.0)\n",
            "Requirement already satisfied: attrs>=21.2 in /usr/local/lib/python3.11/dist-packages (from requests-cache>=1.0.0->fastf1) (25.3.0)\n",
            "Requirement already satisfied: cattrs>=22.2 in /usr/local/lib/python3.11/dist-packages (from requests-cache>=1.0.0->fastf1) (24.1.3)\n",
            "Requirement already satisfied: platformdirs>=2.5 in /usr/local/lib/python3.11/dist-packages (from requests-cache>=1.0.0->fastf1) (4.3.8)\n",
            "Requirement already satisfied: url-normalize>=1.4 in /usr/local/lib/python3.11/dist-packages (from requests-cache>=1.0.0->fastf1) (2.2.1)\n",
            "Requirement already satisfied: greenlet>=1 in /usr/local/lib/python3.11/dist-packages (from sqlalchemy>=1.4.2->optuna) (3.2.2)\n",
            "Requirement already satisfied: patsy>=0.5.6 in /usr/local/lib/python3.11/dist-packages (from statsmodels>=0.11.1->feature-engine) (1.0.1)\n"
          ]
        }
      ],
      "source": [
        "!pip install fastf1 pandas numpy scikit-learn matplotlib seaborn requests optuna lightgbm prophet feature-engine"
      ]
    },
    {
      "cell_type": "code",
      "source": [
        "import os\n",
        "import fastf1\n",
        "import pandas as pd\n",
        "import numpy as np\n",
        "import requests\n",
        "import optuna\n",
        "import lightgbm as lgb\n",
        "from prophet import Prophet\n",
        "from feature_engine.selection import SmartCorrelatedSelection\n",
        "from feature_engine.creation import CyclicalFeatures\n",
        "from sklearn.preprocessing import StandardScaler\n",
        "from sklearn.metrics import mean_absolute_error, mean_squared_error\n",
        "from sklearn.model_selection import TimeSeriesSplit\n",
        "import matplotlib.pyplot as plt\n",
        "import seaborn as sns\n",
        "\n",
        "# Setup FastF1 cache\n",
        "os.makedirs(\"f1_cache\", exist_ok=True)\n",
        "fastf1.Cache.enable_cache(\"f1_cache\")\n",
        "\n",
        "# Load historical data\n",
        "def load_historical_data():\n",
        "    sessions = []\n",
        "    try:\n",
        "        # Only load Emilia Romagna GP data from 2024\n",
        "        session = fastf1.get_session(2024, \"Emilia Romagna\", \"R\")\n",
        "        session.load()\n",
        "        sessions.append(session)\n",
        "    except Exception as e:\n",
        "        print(f\"Error loading Emilia Romagna GP data: {e}\")\n",
        "    return sessions\n",
        "\n"
      ],
      "metadata": {
        "id": "n8qvpxVZgok6"
      },
      "execution_count": 27,
      "outputs": []
    },
    {
      "cell_type": "code",
      "source": [
        "def extract_features(sessions):\n",
        "    all_laps = []\n",
        "    for session in sessions:\n",
        "        # Extract more track-specific features\n",
        "        laps = session.laps[[\"Driver\", \"LapTime\", \"Sector1Time\", \"Sector2Time\",\n",
        "                           \"Sector3Time\", \"TrackStatus\", \"TyreLife\", \"Compound\",\n",
        "                           \"Position\", \"LapNumber\", \"PitOutTime\", \"PitInTime\"]].copy()\n",
        "\n",
        "        # Add session date to each lap\n",
        "        laps['datetime'] = pd.to_datetime(session.date)\n",
        "        laps[\"Session\"] = f\"{session.event.year}_{session.event.name}\"\n",
        "\n",
        "        # Add pit stop impact\n",
        "        laps[\"PitStop\"] = (~pd.isnull(laps[\"PitOutTime\"]) | ~pd.isnull(laps[\"PitInTime\"])).astype(int)\n",
        "\n",
        "        # Track position impact\n",
        "        laps[\"TrackPosition\"] = laps[\"Position\"] / laps[\"Position\"].max()\n",
        "\n",
        "        # Lap progression feature\n",
        "        laps[\"LapProgression\"] = laps[\"LapNumber\"] / laps[\"LapNumber\"].max()\n",
        "\n",
        "        all_laps.append(laps)\n",
        "\n",
        "    combined_laps = pd.concat(all_laps)\n",
        "    combined_laps.dropna(subset=[\"LapTime\", \"Sector1Time\", \"Sector2Time\", \"Sector3Time\"], inplace=True)\n",
        "\n",
        "    # Convert timedelta to seconds\n",
        "    time_cols = [\"LapTime\", \"Sector1Time\", \"Sector2Time\", \"Sector3Time\"]\n",
        "    for col in time_cols:\n",
        "        combined_laps[f\"{col}_seconds\"] = combined_laps[col].dt.total_seconds()\n",
        "\n",
        "    return combined_laps\n",
        "\n"
      ],
      "metadata": {
        "id": "5Z2PcAOHmMOE"
      },
      "execution_count": 28,
      "outputs": []
    },
    {
      "cell_type": "code",
      "source": [
        "def create_driver_features():\n",
        "    return pd.DataFrame({\n",
        "        \"Driver\": [\"VER\", \"NOR\", \"PIA\", \"LEC\", \"RUS\", \"HAM\", \"GAS\", \"ALO\", \"TSU\",\n",
        "                  \"SAI\", \"HUL\", \"OCO\", \"STR\"],\n",
        "        \"QualifyingTime\": [80.423, 80.267, 79.841, 80.175, 80.009, 80.772, 80.216,\n",
        "                          81.886, 81.303, 80.680, 82.067, 81.886, 82.283],\n",
        "        \"WetPerformance\": [0.975, 0.976, 0.974, 0.975, 0.968, 0.976, 0.978, 0.972,\n",
        "                          0.996, 0.978, 0.981, 0.981, 0.979],\n",
        "        \"SeasonPoints\": [61, 62, 80, 20, 20, 20, 20, 20, 20, 20, 2, 8, 11],\n",
        "        \"Experience\": [9, 5, 2, 7, 5, 17, 7, 19, 4, 6, 13, 8, 7],\n",
        "        # Add Imola-specific performance metrics\n",
        "        \"ImolaPodiums\": [3, 1, 0, 2, 0, 4, 0, 2, 0, 1, 0, 0, 0],\n",
        "        \"ImolaAvgFinish\": [2.1, 4.2, 8.0, 3.8, 6.5, 3.2, 7.8, 4.5, 9.2, 5.1, 11.3, 10.8, 12.1]\n",
        "    })\n",
        "\n",
        "def get_weather_forecast(api_key):\n",
        "    # Imola circuit coordinates\n",
        "    lat, lon = 44.3439, 11.7167\n",
        "    url = f\"http://api.openweathermap.org/data/2.5/forecast?lat={lat}&lon={lon}&appid={api_key}&units=metric\"\n",
        "\n",
        "    try:\n",
        "        response = requests.get(url)\n",
        "        data = response.json()\n",
        "        forecast = pd.DataFrame(data['list'])\n",
        "        # Convert timestamp to datetime and rename to match our format\n",
        "        forecast['datetime'] = pd.to_datetime(forecast['dt'], unit='s')\n",
        "        forecast['temp'] = forecast.apply(lambda x: x['main']['temp'], axis=1)\n",
        "        forecast['humidity'] = forecast.apply(lambda x: x['main']['humidity'], axis=1)\n",
        "        forecast['wind_speed'] = forecast.apply(lambda x: x['wind']['speed'], axis=1)\n",
        "        forecast['rain_prob'] = forecast['pop']\n",
        "\n",
        "        # Round datetime to nearest hour for better matching\n",
        "        forecast['datetime'] = forecast['datetime'].dt.round('H')\n",
        "\n",
        "        # Keep only needed columns\n",
        "        forecast = forecast[['datetime', 'temp', 'humidity', 'wind_speed', 'rain_prob']]\n",
        "        return forecast\n",
        "    except Exception as e:\n",
        "        print(f\"Weather forecast error: {e}\")\n",
        "        return None\n",
        "\n"
      ],
      "metadata": {
        "id": "lY88Hx_bmW0A"
      },
      "execution_count": 29,
      "outputs": []
    },
    {
      "cell_type": "code",
      "source": [
        "def objective(trial, X_train, y_train, X_val, y_val):\n",
        "    params = {\n",
        "        'objective': 'regression',\n",
        "        'metric': 'mae',\n",
        "        'boosting_type': 'gbdt',\n",
        "        'num_leaves': trial.suggest_int('num_leaves', 20, 100),\n",
        "        'learning_rate': trial.suggest_loguniform('learning_rate', 0.01, 0.1),\n",
        "        'feature_fraction': trial.suggest_uniform('feature_fraction', 0.4, 1.0),\n",
        "        'bagging_fraction': trial.suggest_uniform('bagging_fraction', 0.4, 1.0),\n",
        "        'bagging_freq': trial.suggest_int('bagging_freq', 1, 7),\n",
        "        'min_child_samples': trial.suggest_int('min_child_samples', 5, 100),\n",
        "        'verbosity': -1  # Suppress training output\n",
        "    }\n",
        "\n",
        "    # Create training and validation datasets\n",
        "    train_data = lgb.Dataset(X_train, label=y_train)\n",
        "    valid_data = lgb.Dataset(X_val, label=y_val, reference=train_data)\n",
        "\n",
        "    # Train the model with early stopping\n",
        "    model = lgb.train(\n",
        "        params,\n",
        "        train_data,\n",
        "        valid_sets=[valid_data],\n",
        "        num_boost_round=1000,\n",
        "        callbacks=[\n",
        "            lgb.early_stopping(stopping_rounds=50),\n",
        "            lgb.log_evaluation(period=-1)  # Suppress evaluation output\n",
        "        ]\n",
        "    )\n",
        "\n",
        "    # Get predictions using best iteration\n",
        "    preds = model.predict(X_val, num_iteration=model.best_iteration)\n",
        "    mae = mean_absolute_error(y_val, preds)\n",
        "    return mae\n",
        "\n"
      ],
      "metadata": {
        "id": "W375wxTVmcrU"
      },
      "execution_count": 30,
      "outputs": []
    },
    {
      "cell_type": "code",
      "source": [
        "def main():\n",
        "    # Load and prepare data\n",
        "    historical_data = load_historical_data()\n",
        "    lap_data = extract_features(historical_data)\n",
        "    driver_features = create_driver_features()\n",
        "\n",
        "    # Set Driver as index for easier lookup\n",
        "    driver_features.set_index('Driver', inplace=True)\n",
        "\n",
        "    # Weather data for Imola\n",
        "    API_KEY = \"YOUR_API_KEY\"  # Replace with actual API key\n",
        "    weather_data = get_weather_forecast(API_KEY)\n",
        "\n",
        "    # Feature engineering specific to Imola\n",
        "    feature_creator = CyclicalFeatures(variables=['TrackStatus'])\n",
        "    scaler = StandardScaler()\n",
        "\n",
        "    # Prepare features\n",
        "    X = pd.merge(lap_data, driver_features.reset_index(), on='Driver', how='left')\n",
        "\n",
        "    # Store original Driver names and create mappings\n",
        "    original_drivers = X['Driver'].unique()\n",
        "    driver_to_code = {driver: idx for idx, driver in enumerate(original_drivers)}\n",
        "    code_to_driver = {idx: driver for driver, idx in driver_to_code.items()}\n",
        "\n",
        "    # Create a lookup dictionary for driver features\n",
        "    driver_stats = {}\n",
        "    for driver in original_drivers:\n",
        "        try:\n",
        "            driver_stats[driver] = {\n",
        "                'ImolaAvgFinish': driver_features.loc[driver, 'ImolaAvgFinish'],\n",
        "                'ImolaPodiums': driver_features.loc[driver, 'ImolaPodiums']\n",
        "            }\n",
        "        except KeyError:\n",
        "            print(f\"Warning: No stats found for driver {driver}\")\n",
        "            driver_stats[driver] = {\n",
        "                'ImolaAvgFinish': 0.0,\n",
        "                'ImolaPodiums': 0\n",
        "            }\n",
        "\n",
        "    # Merge weather data if available\n",
        "    if weather_data is not None:\n",
        "        # Round datetime to hours for better matching\n",
        "        X['datetime'] = pd.to_datetime(X['datetime']).dt.round('H')\n",
        "\n",
        "        # Merge on closest datetime\n",
        "        X = pd.merge_asof(X.sort_values('datetime'),\n",
        "                         weather_data.sort_values('datetime'),\n",
        "                         on='datetime',\n",
        "                         direction='nearest',\n",
        "                         tolerance=pd.Timedelta('3H'))\n",
        "    else:\n",
        "        # Add default weather columns if weather data is not available\n",
        "        X['temp'] = 20.0\n",
        "        X['humidity'] = 60.0\n",
        "        X['wind_speed'] = 5.0\n",
        "        X['rain_prob'] = 0.0\n",
        "\n",
        "    # Drop datetime column as it's no longer needed\n",
        "    X = X.drop('datetime', axis=1, errors='ignore')\n",
        "\n",
        "    # Handle categorical and non-numeric columns\n",
        "    # Convert Driver to numeric codes\n",
        "    X['Driver_Code'] = X['Driver'].map(driver_to_code)\n",
        "\n",
        "    # Convert TrackStatus to numeric\n",
        "    X['TrackStatus_Code'] = pd.Categorical(X['TrackStatus']).codes\n",
        "\n",
        "    # Convert tire compound to numeric\n",
        "    X['Compound_Code'] = pd.Categorical(X['Compound']).codes\n",
        "\n",
        "    # Convert pit times to seconds\n",
        "    X['PitInTime_seconds'] = X['PitInTime'].dt.total_seconds().fillna(0)\n",
        "    X['PitOutTime_seconds'] = X['PitOutTime'].dt.total_seconds().fillna(0)\n",
        "\n",
        "    # Create target variable\n",
        "    y = X['LapTime_seconds']\n",
        "\n",
        "    # Select features for model\n",
        "    feature_columns = [\n",
        "        'Driver_Code', 'Compound_Code', 'TrackStatus_Code',\n",
        "        'PitInTime_seconds', 'PitOutTime_seconds',\n",
        "        'QualifyingTime', 'WetPerformance', 'SeasonPoints',\n",
        "        'Experience', 'ImolaPodiums', 'ImolaAvgFinish',\n",
        "        'TrackPosition', 'LapProgression', 'PitStop',\n",
        "        'temp', 'humidity', 'wind_speed', 'rain_prob'\n",
        "    ]\n",
        "\n",
        "    # Keep only the features we want\n",
        "    X = X[feature_columns]\n",
        "\n",
        "    # Scale numerical features (excluding categorical codes)\n",
        "    categorical_features = ['Driver_Code', 'Compound_Code', 'TrackStatus_Code']\n",
        "    numerical_features = [col for col in X.columns if col not in categorical_features]\n",
        "    X[numerical_features] = scaler.fit_transform(X[numerical_features])\n",
        "\n",
        "    # Split data using time series split\n",
        "    tscv = TimeSeriesSplit(n_splits=3)\n",
        "\n",
        "    # Optimize model with Optuna\n",
        "    study = optuna.create_study(direction='minimize')\n",
        "    for train_idx, val_idx in tscv.split(X):\n",
        "        X_train, X_val = X.iloc[train_idx], X.iloc[val_idx]\n",
        "        y_train, y_val = y.iloc[train_idx], y.iloc[val_idx]\n",
        "\n",
        "        study.optimize(lambda trial: objective(trial, X_train, y_train, X_val, y_val),\n",
        "                      n_trials=30)\n",
        "\n",
        "    # Train final model with best parameters\n",
        "    best_params = study.best_params\n",
        "    final_model = lgb.LGBMRegressor(**best_params)\n",
        "    final_model.fit(X, y)\n",
        "\n",
        "    # Make predictions for Emilia Romagna GP\n",
        "    predictions = final_model.predict(X)\n",
        "\n",
        "    # Prepare visualization data\n",
        "    plot_data = pd.DataFrame({\n",
        "        'Driver': [code_to_driver[code] for code in X['Driver_Code']],\n",
        "        'Predictions': predictions,\n",
        "        'ImolaAvgFinish': [driver_stats[code_to_driver[code]]['ImolaAvgFinish'] for code in X['Driver_Code']],\n",
        "        'ImolaPodiums': [driver_stats[code_to_driver[code]]['ImolaPodiums'] for code in X['Driver_Code']]\n",
        "    })\n",
        "\n",
        "    # Visualize results\n",
        "    plt.figure(figsize=(12, 6))\n",
        "    sns.scatterplot(data=plot_data.drop_duplicates('Driver'),\n",
        "                    x='ImolaAvgFinish',\n",
        "                    y='Predictions',\n",
        "                    hue='Driver',\n",
        "                    size='ImolaPodiums')\n",
        "    plt.title('Historical Imola Performance vs Predicted Race Pace')\n",
        "    plt.xlabel('Average Finish Position at Imola')\n",
        "    plt.ylabel('Predicted Lap Time (seconds)')\n",
        "    plt.show()\n",
        "\n",
        "    # Feature importance\n",
        "    importance_df = pd.DataFrame({\n",
        "        'feature': X.columns,\n",
        "        'importance': final_model.feature_importances_\n",
        "    }).sort_values('importance', ascending=False)\n",
        "\n",
        "    plt.figure(figsize=(12, 6))\n",
        "    sns.barplot(x='importance', y='feature', data=importance_df.head(15))\n",
        "    plt.title('Feature Importance for Imola GP Predictions')\n",
        "    plt.tight_layout()\n",
        "    plt.show()\n",
        "\n",
        "    # Print predictions\n",
        "    unique_predictions = plot_data.groupby('Driver')['Predictions'].mean().reset_index()\n",
        "    results = pd.DataFrame({\n",
        "        'Driver': unique_predictions['Driver'],\n",
        "        'Predicted_Race_Time': unique_predictions['Predictions'],\n",
        "        'Historical_Avg_Finish': [driver_stats[driver]['ImolaAvgFinish'] for driver in unique_predictions['Driver']],\n",
        "        'Imola_Podiums': [driver_stats[driver]['ImolaPodiums'] for driver in unique_predictions['Driver']]\n",
        "    }).sort_values('Predicted_Race_Time')\n",
        "\n",
        "    print(\"\\nPredicted 2025 Emilia Romagna GP Results:\")\n",
        "    print(results[['Driver', 'Predicted_Race_Time', 'Historical_Avg_Finish', 'Imola_Podiums']].head(10))\n",
        "\n",
        "if __name__ == \"__main__\":\n",
        "    main()"
      ],
      "metadata": {
        "colab": {
          "base_uri": "https://localhost:8080/",
          "height": 1000
        },
        "id": "OmSNbXfFmhiQ",
        "outputId": "e9e6f568-918d-4a1e-f857-2fbb10ee53a7"
      },
      "execution_count": 31,
      "outputs": [
        {
          "output_type": "stream",
          "name": "stderr",
          "text": [
            "core           INFO \tLoading data for Emilia Romagna Grand Prix - Race [v3.5.3]\n",
            "INFO:fastf1.fastf1.core:Loading data for Emilia Romagna Grand Prix - Race [v3.5.3]\n",
            "req            INFO \tUsing cached data for session_info\n",
            "INFO:fastf1.fastf1.req:Using cached data for session_info\n",
            "req            INFO \tUsing cached data for driver_info\n",
            "INFO:fastf1.fastf1.req:Using cached data for driver_info\n",
            "req            INFO \tUsing cached data for session_status_data\n",
            "INFO:fastf1.fastf1.req:Using cached data for session_status_data\n",
            "req            INFO \tUsing cached data for lap_count\n",
            "INFO:fastf1.fastf1.req:Using cached data for lap_count\n",
            "req            INFO \tUsing cached data for track_status_data\n",
            "INFO:fastf1.fastf1.req:Using cached data for track_status_data\n",
            "req            INFO \tUsing cached data for _extended_timing_data\n",
            "INFO:fastf1.fastf1.req:Using cached data for _extended_timing_data\n",
            "req            INFO \tUsing cached data for timing_app_data\n",
            "INFO:fastf1.fastf1.req:Using cached data for timing_app_data\n",
            "core           INFO \tProcessing timing data...\n",
            "INFO:fastf1.fastf1.core:Processing timing data...\n",
            "req            INFO \tUsing cached data for car_data\n",
            "INFO:fastf1.fastf1.req:Using cached data for car_data\n",
            "req            INFO \tUsing cached data for position_data\n",
            "INFO:fastf1.fastf1.req:Using cached data for position_data\n",
            "req            INFO \tUsing cached data for weather_data\n",
            "INFO:fastf1.fastf1.req:Using cached data for weather_data\n",
            "req            INFO \tUsing cached data for race_control_messages\n",
            "INFO:fastf1.fastf1.req:Using cached data for race_control_messages\n",
            "core           INFO \tFinished loading data for 20 drivers: ['1', '4', '16', '81', '55', '44', '63', '11', '18', '22', '27', '20', '3', '31', '24', '10', '2', '77', '14', '23']\n",
            "INFO:fastf1.fastf1.core:Finished loading data for 20 drivers: ['1', '4', '16', '81', '55', '44', '63', '11', '18', '22', '27', '20', '3', '31', '24', '10', '2', '77', '14', '23']\n",
            "<ipython-input-31-86c5366aee3a>:95: SettingWithCopyWarning: \n",
            "A value is trying to be set on a copy of a slice from a DataFrame.\n",
            "Try using .loc[row_indexer,col_indexer] = value instead\n",
            "\n",
            "See the caveats in the documentation: https://pandas.pydata.org/pandas-docs/stable/user_guide/indexing.html#returning-a-view-versus-a-copy\n",
            "  X[numerical_features] = scaler.fit_transform(X[numerical_features])\n",
            "[I 2025-05-29 05:53:26,756] A new study created in memory with name: no-name-e1916c78-4401-43c3-8519-9288f5fe587c\n",
            "<ipython-input-30-936ca12ff7ff>:7: FutureWarning: suggest_loguniform has been deprecated in v3.0.0. This feature will be removed in v6.0.0. See https://github.com/optuna/optuna/releases/tag/v3.0.0. Use suggest_float(..., log=True) instead.\n",
            "  'learning_rate': trial.suggest_loguniform('learning_rate', 0.01, 0.1),\n",
            "<ipython-input-30-936ca12ff7ff>:8: FutureWarning: suggest_uniform has been deprecated in v3.0.0. This feature will be removed in v6.0.0. See https://github.com/optuna/optuna/releases/tag/v3.0.0. Use suggest_float instead.\n",
            "  'feature_fraction': trial.suggest_uniform('feature_fraction', 0.4, 1.0),\n",
            "<ipython-input-30-936ca12ff7ff>:9: FutureWarning: suggest_uniform has been deprecated in v3.0.0. This feature will be removed in v6.0.0. See https://github.com/optuna/optuna/releases/tag/v3.0.0. Use suggest_float instead.\n",
            "  'bagging_fraction': trial.suggest_uniform('bagging_fraction', 0.4, 1.0),\n",
            "[I 2025-05-29 05:53:26,787] Trial 0 finished with value: 1.12700942826774 and parameters: {'num_leaves': 27, 'learning_rate': 0.030301933171536555, 'feature_fraction': 0.4584973806367233, 'bagging_fraction': 0.7220226515314345, 'bagging_freq': 5, 'min_child_samples': 62}. Best is trial 0 with value: 1.12700942826774.\n",
            "<ipython-input-30-936ca12ff7ff>:7: FutureWarning: suggest_loguniform has been deprecated in v3.0.0. This feature will be removed in v6.0.0. See https://github.com/optuna/optuna/releases/tag/v3.0.0. Use suggest_float(..., log=True) instead.\n",
            "  'learning_rate': trial.suggest_loguniform('learning_rate', 0.01, 0.1),\n",
            "<ipython-input-30-936ca12ff7ff>:8: FutureWarning: suggest_uniform has been deprecated in v3.0.0. This feature will be removed in v6.0.0. See https://github.com/optuna/optuna/releases/tag/v3.0.0. Use suggest_float instead.\n",
            "  'feature_fraction': trial.suggest_uniform('feature_fraction', 0.4, 1.0),\n",
            "<ipython-input-30-936ca12ff7ff>:9: FutureWarning: suggest_uniform has been deprecated in v3.0.0. This feature will be removed in v6.0.0. See https://github.com/optuna/optuna/releases/tag/v3.0.0. Use suggest_float instead.\n",
            "  'bagging_fraction': trial.suggest_uniform('bagging_fraction', 0.4, 1.0),\n",
            "[I 2025-05-29 05:53:26,812] Trial 1 finished with value: 1.2114915185822677 and parameters: {'num_leaves': 61, 'learning_rate': 0.025617016682452178, 'feature_fraction': 0.8901669593642061, 'bagging_fraction': 0.7069649340650674, 'bagging_freq': 3, 'min_child_samples': 23}. Best is trial 0 with value: 1.12700942826774.\n",
            "<ipython-input-30-936ca12ff7ff>:7: FutureWarning: suggest_loguniform has been deprecated in v3.0.0. This feature will be removed in v6.0.0. See https://github.com/optuna/optuna/releases/tag/v3.0.0. Use suggest_float(..., log=True) instead.\n",
            "  'learning_rate': trial.suggest_loguniform('learning_rate', 0.01, 0.1),\n",
            "<ipython-input-30-936ca12ff7ff>:8: FutureWarning: suggest_uniform has been deprecated in v3.0.0. This feature will be removed in v6.0.0. See https://github.com/optuna/optuna/releases/tag/v3.0.0. Use suggest_float instead.\n",
            "  'feature_fraction': trial.suggest_uniform('feature_fraction', 0.4, 1.0),\n",
            "<ipython-input-30-936ca12ff7ff>:9: FutureWarning: suggest_uniform has been deprecated in v3.0.0. This feature will be removed in v6.0.0. See https://github.com/optuna/optuna/releases/tag/v3.0.0. Use suggest_float instead.\n",
            "  'bagging_fraction': trial.suggest_uniform('bagging_fraction', 0.4, 1.0),\n",
            "[I 2025-05-29 05:53:26,838] Trial 2 finished with value: 1.2231796063416238 and parameters: {'num_leaves': 85, 'learning_rate': 0.013580283578277367, 'feature_fraction': 0.9449838992891357, 'bagging_fraction': 0.9374889574289754, 'bagging_freq': 2, 'min_child_samples': 38}. Best is trial 0 with value: 1.12700942826774.\n",
            "<ipython-input-30-936ca12ff7ff>:7: FutureWarning: suggest_loguniform has been deprecated in v3.0.0. This feature will be removed in v6.0.0. See https://github.com/optuna/optuna/releases/tag/v3.0.0. Use suggest_float(..., log=True) instead.\n",
            "  'learning_rate': trial.suggest_loguniform('learning_rate', 0.01, 0.1),\n",
            "<ipython-input-30-936ca12ff7ff>:8: FutureWarning: suggest_uniform has been deprecated in v3.0.0. This feature will be removed in v6.0.0. See https://github.com/optuna/optuna/releases/tag/v3.0.0. Use suggest_float instead.\n",
            "  'feature_fraction': trial.suggest_uniform('feature_fraction', 0.4, 1.0),\n",
            "<ipython-input-30-936ca12ff7ff>:9: FutureWarning: suggest_uniform has been deprecated in v3.0.0. This feature will be removed in v6.0.0. See https://github.com/optuna/optuna/releases/tag/v3.0.0. Use suggest_float instead.\n",
            "  'bagging_fraction': trial.suggest_uniform('bagging_fraction', 0.4, 1.0),\n",
            "[I 2025-05-29 05:53:26,859] Trial 3 finished with value: 1.2548475747424255 and parameters: {'num_leaves': 49, 'learning_rate': 0.06353889887946694, 'feature_fraction': 0.6204439571690388, 'bagging_fraction': 0.7437361627743451, 'bagging_freq': 7, 'min_child_samples': 15}. Best is trial 0 with value: 1.12700942826774.\n",
            "<ipython-input-30-936ca12ff7ff>:7: FutureWarning: suggest_loguniform has been deprecated in v3.0.0. This feature will be removed in v6.0.0. See https://github.com/optuna/optuna/releases/tag/v3.0.0. Use suggest_float(..., log=True) instead.\n",
            "  'learning_rate': trial.suggest_loguniform('learning_rate', 0.01, 0.1),\n",
            "<ipython-input-30-936ca12ff7ff>:8: FutureWarning: suggest_uniform has been deprecated in v3.0.0. This feature will be removed in v6.0.0. See https://github.com/optuna/optuna/releases/tag/v3.0.0. Use suggest_float instead.\n",
            "  'feature_fraction': trial.suggest_uniform('feature_fraction', 0.4, 1.0),\n",
            "<ipython-input-30-936ca12ff7ff>:9: FutureWarning: suggest_uniform has been deprecated in v3.0.0. This feature will be removed in v6.0.0. See https://github.com/optuna/optuna/releases/tag/v3.0.0. Use suggest_float instead.\n",
            "  'bagging_fraction': trial.suggest_uniform('bagging_fraction', 0.4, 1.0),\n",
            "[I 2025-05-29 05:53:26,885] Trial 4 finished with value: 1.1620031996281472 and parameters: {'num_leaves': 30, 'learning_rate': 0.03771256757101648, 'feature_fraction': 0.45168701379153636, 'bagging_fraction': 0.5338647345714954, 'bagging_freq': 1, 'min_child_samples': 62}. Best is trial 0 with value: 1.12700942826774.\n",
            "<ipython-input-30-936ca12ff7ff>:7: FutureWarning: suggest_loguniform has been deprecated in v3.0.0. This feature will be removed in v6.0.0. See https://github.com/optuna/optuna/releases/tag/v3.0.0. Use suggest_float(..., log=True) instead.\n",
            "  'learning_rate': trial.suggest_loguniform('learning_rate', 0.01, 0.1),\n",
            "<ipython-input-30-936ca12ff7ff>:8: FutureWarning: suggest_uniform has been deprecated in v3.0.0. This feature will be removed in v6.0.0. See https://github.com/optuna/optuna/releases/tag/v3.0.0. Use suggest_float instead.\n",
            "  'feature_fraction': trial.suggest_uniform('feature_fraction', 0.4, 1.0),\n",
            "<ipython-input-30-936ca12ff7ff>:9: FutureWarning: suggest_uniform has been deprecated in v3.0.0. This feature will be removed in v6.0.0. See https://github.com/optuna/optuna/releases/tag/v3.0.0. Use suggest_float instead.\n",
            "  'bagging_fraction': trial.suggest_uniform('bagging_fraction', 0.4, 1.0),\n",
            "[I 2025-05-29 05:53:26,913] Trial 5 finished with value: 1.1387363188883814 and parameters: {'num_leaves': 73, 'learning_rate': 0.01750640136946698, 'feature_fraction': 0.6527489769039966, 'bagging_fraction': 0.6442335937742444, 'bagging_freq': 5, 'min_child_samples': 57}. Best is trial 0 with value: 1.12700942826774.\n",
            "<ipython-input-30-936ca12ff7ff>:7: FutureWarning: suggest_loguniform has been deprecated in v3.0.0. This feature will be removed in v6.0.0. See https://github.com/optuna/optuna/releases/tag/v3.0.0. Use suggest_float(..., log=True) instead.\n",
            "  'learning_rate': trial.suggest_loguniform('learning_rate', 0.01, 0.1),\n",
            "<ipython-input-30-936ca12ff7ff>:8: FutureWarning: suggest_uniform has been deprecated in v3.0.0. This feature will be removed in v6.0.0. See https://github.com/optuna/optuna/releases/tag/v3.0.0. Use suggest_float instead.\n",
            "  'feature_fraction': trial.suggest_uniform('feature_fraction', 0.4, 1.0),\n",
            "<ipython-input-30-936ca12ff7ff>:9: FutureWarning: suggest_uniform has been deprecated in v3.0.0. This feature will be removed in v6.0.0. See https://github.com/optuna/optuna/releases/tag/v3.0.0. Use suggest_float instead.\n",
            "  'bagging_fraction': trial.suggest_uniform('bagging_fraction', 0.4, 1.0),\n",
            "[I 2025-05-29 05:53:26,927] Trial 6 finished with value: 1.3261496439514964 and parameters: {'num_leaves': 66, 'learning_rate': 0.09907321358077821, 'feature_fraction': 0.5217961775393495, 'bagging_fraction': 0.4504444257910768, 'bagging_freq': 2, 'min_child_samples': 81}. Best is trial 0 with value: 1.12700942826774.\n"
          ]
        },
        {
          "output_type": "stream",
          "name": "stdout",
          "text": [
            "Weather forecast error: 'list'\n",
            "Warning: No stats found for driver PER\n",
            "Warning: No stats found for driver MAG\n",
            "Warning: No stats found for driver RIC\n",
            "Warning: No stats found for driver ZHO\n",
            "Warning: No stats found for driver SAR\n",
            "Warning: No stats found for driver BOT\n",
            "Warning: No stats found for driver ALB\n",
            "Training until validation scores don't improve for 50 rounds\n",
            "Early stopping, best iteration is:\n",
            "[100]\tvalid_0's l1: 1.12701\n",
            "Training until validation scores don't improve for 50 rounds\n",
            "Early stopping, best iteration is:\n",
            "[24]\tvalid_0's l1: 1.21149\n",
            "Training until validation scores don't improve for 50 rounds\n",
            "Early stopping, best iteration is:\n",
            "[39]\tvalid_0's l1: 1.22318\n",
            "Training until validation scores don't improve for 50 rounds\n",
            "Early stopping, best iteration is:\n",
            "[5]\tvalid_0's l1: 1.25485\n",
            "Training until validation scores don't improve for 50 rounds\n",
            "Early stopping, best iteration is:\n",
            "[54]\tvalid_0's l1: 1.162\n",
            "Training until validation scores don't improve for 50 rounds\n",
            "Early stopping, best iteration is:\n",
            "[118]\tvalid_0's l1: 1.13874\n",
            "Training until validation scores don't improve for 50 rounds\n",
            "Early stopping, best iteration is:\n",
            "[1]\tvalid_0's l1: 1.32615\n",
            "Training until validation scores don't improve for 50 rounds\n"
          ]
        },
        {
          "output_type": "stream",
          "name": "stderr",
          "text": [
            "<ipython-input-30-936ca12ff7ff>:7: FutureWarning: suggest_loguniform has been deprecated in v3.0.0. This feature will be removed in v6.0.0. See https://github.com/optuna/optuna/releases/tag/v3.0.0. Use suggest_float(..., log=True) instead.\n",
            "  'learning_rate': trial.suggest_loguniform('learning_rate', 0.01, 0.1),\n",
            "<ipython-input-30-936ca12ff7ff>:8: FutureWarning: suggest_uniform has been deprecated in v3.0.0. This feature will be removed in v6.0.0. See https://github.com/optuna/optuna/releases/tag/v3.0.0. Use suggest_float instead.\n",
            "  'feature_fraction': trial.suggest_uniform('feature_fraction', 0.4, 1.0),\n",
            "<ipython-input-30-936ca12ff7ff>:9: FutureWarning: suggest_uniform has been deprecated in v3.0.0. This feature will be removed in v6.0.0. See https://github.com/optuna/optuna/releases/tag/v3.0.0. Use suggest_float instead.\n",
            "  'bagging_fraction': trial.suggest_uniform('bagging_fraction', 0.4, 1.0),\n",
            "[I 2025-05-29 05:53:26,973] Trial 7 finished with value: 1.1599953044579938 and parameters: {'num_leaves': 30, 'learning_rate': 0.011282272806501731, 'feature_fraction': 0.5528324816371086, 'bagging_fraction': 0.9007018126773405, 'bagging_freq': 2, 'min_child_samples': 91}. Best is trial 0 with value: 1.12700942826774.\n",
            "<ipython-input-30-936ca12ff7ff>:7: FutureWarning: suggest_loguniform has been deprecated in v3.0.0. This feature will be removed in v6.0.0. See https://github.com/optuna/optuna/releases/tag/v3.0.0. Use suggest_float(..., log=True) instead.\n",
            "  'learning_rate': trial.suggest_loguniform('learning_rate', 0.01, 0.1),\n",
            "<ipython-input-30-936ca12ff7ff>:8: FutureWarning: suggest_uniform has been deprecated in v3.0.0. This feature will be removed in v6.0.0. See https://github.com/optuna/optuna/releases/tag/v3.0.0. Use suggest_float instead.\n",
            "  'feature_fraction': trial.suggest_uniform('feature_fraction', 0.4, 1.0),\n",
            "<ipython-input-30-936ca12ff7ff>:9: FutureWarning: suggest_uniform has been deprecated in v3.0.0. This feature will be removed in v6.0.0. See https://github.com/optuna/optuna/releases/tag/v3.0.0. Use suggest_float instead.\n",
            "  'bagging_fraction': trial.suggest_uniform('bagging_fraction', 0.4, 1.0),\n",
            "[I 2025-05-29 05:53:27,005] Trial 8 finished with value: 1.2383024169793018 and parameters: {'num_leaves': 43, 'learning_rate': 0.018188436984091286, 'feature_fraction': 0.7026828217278533, 'bagging_fraction': 0.9902518179594745, 'bagging_freq': 5, 'min_child_samples': 11}. Best is trial 0 with value: 1.12700942826774.\n",
            "<ipython-input-30-936ca12ff7ff>:7: FutureWarning: suggest_loguniform has been deprecated in v3.0.0. This feature will be removed in v6.0.0. See https://github.com/optuna/optuna/releases/tag/v3.0.0. Use suggest_float(..., log=True) instead.\n",
            "  'learning_rate': trial.suggest_loguniform('learning_rate', 0.01, 0.1),\n",
            "<ipython-input-30-936ca12ff7ff>:8: FutureWarning: suggest_uniform has been deprecated in v3.0.0. This feature will be removed in v6.0.0. See https://github.com/optuna/optuna/releases/tag/v3.0.0. Use suggest_float instead.\n",
            "  'feature_fraction': trial.suggest_uniform('feature_fraction', 0.4, 1.0),\n",
            "<ipython-input-30-936ca12ff7ff>:9: FutureWarning: suggest_uniform has been deprecated in v3.0.0. This feature will be removed in v6.0.0. See https://github.com/optuna/optuna/releases/tag/v3.0.0. Use suggest_float instead.\n",
            "  'bagging_fraction': trial.suggest_uniform('bagging_fraction', 0.4, 1.0),\n",
            "[I 2025-05-29 05:53:27,035] Trial 9 finished with value: 1.1450181999918079 and parameters: {'num_leaves': 86, 'learning_rate': 0.03420673726197159, 'feature_fraction': 0.4254014537463767, 'bagging_fraction': 0.8225817303017608, 'bagging_freq': 3, 'min_child_samples': 74}. Best is trial 0 with value: 1.12700942826774.\n",
            "<ipython-input-30-936ca12ff7ff>:7: FutureWarning: suggest_loguniform has been deprecated in v3.0.0. This feature will be removed in v6.0.0. See https://github.com/optuna/optuna/releases/tag/v3.0.0. Use suggest_float(..., log=True) instead.\n",
            "  'learning_rate': trial.suggest_loguniform('learning_rate', 0.01, 0.1),\n",
            "<ipython-input-30-936ca12ff7ff>:8: FutureWarning: suggest_uniform has been deprecated in v3.0.0. This feature will be removed in v6.0.0. See https://github.com/optuna/optuna/releases/tag/v3.0.0. Use suggest_float instead.\n",
            "  'feature_fraction': trial.suggest_uniform('feature_fraction', 0.4, 1.0),\n",
            "<ipython-input-30-936ca12ff7ff>:9: FutureWarning: suggest_uniform has been deprecated in v3.0.0. This feature will be removed in v6.0.0. See https://github.com/optuna/optuna/releases/tag/v3.0.0. Use suggest_float instead.\n",
            "  'bagging_fraction': trial.suggest_uniform('bagging_fraction', 0.4, 1.0),\n",
            "[I 2025-05-29 05:53:27,085] Trial 10 finished with value: 1.1571076019015656 and parameters: {'num_leaves': 20, 'learning_rate': 0.05171812177900721, 'feature_fraction': 0.7949244751827577, 'bagging_fraction': 0.6134759715813652, 'bagging_freq': 7, 'min_child_samples': 41}. Best is trial 0 with value: 1.12700942826774.\n",
            "<ipython-input-30-936ca12ff7ff>:7: FutureWarning: suggest_loguniform has been deprecated in v3.0.0. This feature will be removed in v6.0.0. See https://github.com/optuna/optuna/releases/tag/v3.0.0. Use suggest_float(..., log=True) instead.\n",
            "  'learning_rate': trial.suggest_loguniform('learning_rate', 0.01, 0.1),\n",
            "<ipython-input-30-936ca12ff7ff>:8: FutureWarning: suggest_uniform has been deprecated in v3.0.0. This feature will be removed in v6.0.0. See https://github.com/optuna/optuna/releases/tag/v3.0.0. Use suggest_float instead.\n",
            "  'feature_fraction': trial.suggest_uniform('feature_fraction', 0.4, 1.0),\n",
            "<ipython-input-30-936ca12ff7ff>:9: FutureWarning: suggest_uniform has been deprecated in v3.0.0. This feature will be removed in v6.0.0. See https://github.com/optuna/optuna/releases/tag/v3.0.0. Use suggest_float instead.\n",
            "  'bagging_fraction': trial.suggest_uniform('bagging_fraction', 0.4, 1.0),\n",
            "[I 2025-05-29 05:53:27,148] Trial 11 finished with value: 1.1380779939513765 and parameters: {'num_leaves': 100, 'learning_rate': 0.021147110022662573, 'feature_fraction': 0.7224435116038509, 'bagging_fraction': 0.6251595839876286, 'bagging_freq': 5, 'min_child_samples': 61}. Best is trial 0 with value: 1.12700942826774.\n"
          ]
        },
        {
          "output_type": "stream",
          "name": "stdout",
          "text": [
            "Early stopping, best iteration is:\n",
            "[256]\tvalid_0's l1: 1.16\n",
            "Training until validation scores don't improve for 50 rounds\n",
            "Early stopping, best iteration is:\n",
            "[20]\tvalid_0's l1: 1.2383\n",
            "Training until validation scores don't improve for 50 rounds\n",
            "Early stopping, best iteration is:\n",
            "[96]\tvalid_0's l1: 1.14502\n",
            "Training until validation scores don't improve for 50 rounds\n",
            "Early stopping, best iteration is:\n",
            "[24]\tvalid_0's l1: 1.15711\n",
            "Training until validation scores don't improve for 50 rounds\n",
            "Early stopping, best iteration is:\n",
            "[106]\tvalid_0's l1: 1.13808\n"
          ]
        },
        {
          "output_type": "stream",
          "name": "stderr",
          "text": [
            "<ipython-input-30-936ca12ff7ff>:7: FutureWarning: suggest_loguniform has been deprecated in v3.0.0. This feature will be removed in v6.0.0. See https://github.com/optuna/optuna/releases/tag/v3.0.0. Use suggest_float(..., log=True) instead.\n",
            "  'learning_rate': trial.suggest_loguniform('learning_rate', 0.01, 0.1),\n",
            "<ipython-input-30-936ca12ff7ff>:8: FutureWarning: suggest_uniform has been deprecated in v3.0.0. This feature will be removed in v6.0.0. See https://github.com/optuna/optuna/releases/tag/v3.0.0. Use suggest_float instead.\n",
            "  'feature_fraction': trial.suggest_uniform('feature_fraction', 0.4, 1.0),\n",
            "<ipython-input-30-936ca12ff7ff>:9: FutureWarning: suggest_uniform has been deprecated in v3.0.0. This feature will be removed in v6.0.0. See https://github.com/optuna/optuna/releases/tag/v3.0.0. Use suggest_float instead.\n",
            "  'bagging_fraction': trial.suggest_uniform('bagging_fraction', 0.4, 1.0),\n",
            "[I 2025-05-29 05:53:27,212] Trial 12 finished with value: 1.1251091600761984 and parameters: {'num_leaves': 98, 'learning_rate': 0.02374723656818728, 'feature_fraction': 0.7506241505888246, 'bagging_fraction': 0.777668118400715, 'bagging_freq': 5, 'min_child_samples': 66}. Best is trial 12 with value: 1.1251091600761984.\n",
            "<ipython-input-30-936ca12ff7ff>:7: FutureWarning: suggest_loguniform has been deprecated in v3.0.0. This feature will be removed in v6.0.0. See https://github.com/optuna/optuna/releases/tag/v3.0.0. Use suggest_float(..., log=True) instead.\n",
            "  'learning_rate': trial.suggest_loguniform('learning_rate', 0.01, 0.1),\n",
            "<ipython-input-30-936ca12ff7ff>:8: FutureWarning: suggest_uniform has been deprecated in v3.0.0. This feature will be removed in v6.0.0. See https://github.com/optuna/optuna/releases/tag/v3.0.0. Use suggest_float instead.\n",
            "  'feature_fraction': trial.suggest_uniform('feature_fraction', 0.4, 1.0),\n",
            "<ipython-input-30-936ca12ff7ff>:9: FutureWarning: suggest_uniform has been deprecated in v3.0.0. This feature will be removed in v6.0.0. See https://github.com/optuna/optuna/releases/tag/v3.0.0. Use suggest_float instead.\n",
            "  'bagging_fraction': trial.suggest_uniform('bagging_fraction', 0.4, 1.0),\n",
            "[I 2025-05-29 05:53:27,264] Trial 13 finished with value: 1.165552744683317 and parameters: {'num_leaves': 47, 'learning_rate': 0.02800614771166581, 'feature_fraction': 0.8227663184770566, 'bagging_fraction': 0.811598335923795, 'bagging_freq': 6, 'min_child_samples': 97}. Best is trial 12 with value: 1.1251091600761984.\n",
            "<ipython-input-30-936ca12ff7ff>:7: FutureWarning: suggest_loguniform has been deprecated in v3.0.0. This feature will be removed in v6.0.0. See https://github.com/optuna/optuna/releases/tag/v3.0.0. Use suggest_float(..., log=True) instead.\n",
            "  'learning_rate': trial.suggest_loguniform('learning_rate', 0.01, 0.1),\n",
            "<ipython-input-30-936ca12ff7ff>:8: FutureWarning: suggest_uniform has been deprecated in v3.0.0. This feature will be removed in v6.0.0. See https://github.com/optuna/optuna/releases/tag/v3.0.0. Use suggest_float instead.\n",
            "  'feature_fraction': trial.suggest_uniform('feature_fraction', 0.4, 1.0),\n",
            "<ipython-input-30-936ca12ff7ff>:9: FutureWarning: suggest_uniform has been deprecated in v3.0.0. This feature will be removed in v6.0.0. See https://github.com/optuna/optuna/releases/tag/v3.0.0. Use suggest_float instead.\n",
            "  'bagging_fraction': trial.suggest_uniform('bagging_fraction', 0.4, 1.0),\n",
            "[I 2025-05-29 05:53:27,321] Trial 14 finished with value: 1.1250592986362806 and parameters: {'num_leaves': 100, 'learning_rate': 0.04110362802197515, 'feature_fraction': 0.7839412115361548, 'bagging_fraction': 0.7902164370428434, 'bagging_freq': 4, 'min_child_samples': 72}. Best is trial 14 with value: 1.1250592986362806.\n",
            "<ipython-input-30-936ca12ff7ff>:7: FutureWarning: suggest_loguniform has been deprecated in v3.0.0. This feature will be removed in v6.0.0. See https://github.com/optuna/optuna/releases/tag/v3.0.0. Use suggest_float(..., log=True) instead.\n",
            "  'learning_rate': trial.suggest_loguniform('learning_rate', 0.01, 0.1),\n",
            "<ipython-input-30-936ca12ff7ff>:8: FutureWarning: suggest_uniform has been deprecated in v3.0.0. This feature will be removed in v6.0.0. See https://github.com/optuna/optuna/releases/tag/v3.0.0. Use suggest_float instead.\n",
            "  'feature_fraction': trial.suggest_uniform('feature_fraction', 0.4, 1.0),\n",
            "<ipython-input-30-936ca12ff7ff>:9: FutureWarning: suggest_uniform has been deprecated in v3.0.0. This feature will be removed in v6.0.0. See https://github.com/optuna/optuna/releases/tag/v3.0.0. Use suggest_float instead.\n",
            "  'bagging_fraction': trial.suggest_uniform('bagging_fraction', 0.4, 1.0),\n",
            "[I 2025-05-29 05:53:27,389] Trial 15 finished with value: 1.1350747850198382 and parameters: {'num_leaves': 96, 'learning_rate': 0.04398857027415729, 'feature_fraction': 0.784137852345827, 'bagging_fraction': 0.8197877284149911, 'bagging_freq': 4, 'min_child_samples': 79}. Best is trial 14 with value: 1.1250592986362806.\n"
          ]
        },
        {
          "output_type": "stream",
          "name": "stdout",
          "text": [
            "Training until validation scores don't improve for 50 rounds\n",
            "Early stopping, best iteration is:\n",
            "[100]\tvalid_0's l1: 1.12511\n",
            "Training until validation scores don't improve for 50 rounds\n",
            "Early stopping, best iteration is:\n",
            "[35]\tvalid_0's l1: 1.16555\n",
            "Training until validation scores don't improve for 50 rounds\n",
            "Early stopping, best iteration is:\n",
            "[54]\tvalid_0's l1: 1.12506\n",
            "Training until validation scores don't improve for 50 rounds\n",
            "Early stopping, best iteration is:\n",
            "[54]\tvalid_0's l1: 1.13507\n"
          ]
        },
        {
          "output_type": "stream",
          "name": "stderr",
          "text": [
            "<ipython-input-30-936ca12ff7ff>:7: FutureWarning: suggest_loguniform has been deprecated in v3.0.0. This feature will be removed in v6.0.0. See https://github.com/optuna/optuna/releases/tag/v3.0.0. Use suggest_float(..., log=True) instead.\n",
            "  'learning_rate': trial.suggest_loguniform('learning_rate', 0.01, 0.1),\n",
            "<ipython-input-30-936ca12ff7ff>:8: FutureWarning: suggest_uniform has been deprecated in v3.0.0. This feature will be removed in v6.0.0. See https://github.com/optuna/optuna/releases/tag/v3.0.0. Use suggest_float instead.\n",
            "  'feature_fraction': trial.suggest_uniform('feature_fraction', 0.4, 1.0),\n",
            "<ipython-input-30-936ca12ff7ff>:9: FutureWarning: suggest_uniform has been deprecated in v3.0.0. This feature will be removed in v6.0.0. See https://github.com/optuna/optuna/releases/tag/v3.0.0. Use suggest_float instead.\n",
            "  'bagging_fraction': trial.suggest_uniform('bagging_fraction', 0.4, 1.0),\n",
            "[I 2025-05-29 05:53:27,442] Trial 16 finished with value: 1.2147183049949082 and parameters: {'num_leaves': 87, 'learning_rate': 0.0651996555113411, 'feature_fraction': 0.8726046581332021, 'bagging_fraction': 0.8821074686642282, 'bagging_freq': 4, 'min_child_samples': 43}. Best is trial 14 with value: 1.1250592986362806.\n",
            "<ipython-input-30-936ca12ff7ff>:7: FutureWarning: suggest_loguniform has been deprecated in v3.0.0. This feature will be removed in v6.0.0. See https://github.com/optuna/optuna/releases/tag/v3.0.0. Use suggest_float(..., log=True) instead.\n",
            "  'learning_rate': trial.suggest_loguniform('learning_rate', 0.01, 0.1),\n",
            "<ipython-input-30-936ca12ff7ff>:8: FutureWarning: suggest_uniform has been deprecated in v3.0.0. This feature will be removed in v6.0.0. See https://github.com/optuna/optuna/releases/tag/v3.0.0. Use suggest_float instead.\n",
            "  'feature_fraction': trial.suggest_uniform('feature_fraction', 0.4, 1.0),\n",
            "<ipython-input-30-936ca12ff7ff>:9: FutureWarning: suggest_uniform has been deprecated in v3.0.0. This feature will be removed in v6.0.0. See https://github.com/optuna/optuna/releases/tag/v3.0.0. Use suggest_float instead.\n",
            "  'bagging_fraction': trial.suggest_uniform('bagging_fraction', 0.4, 1.0),\n",
            "[I 2025-05-29 05:53:27,501] Trial 17 finished with value: 1.1229645139128095 and parameters: {'num_leaves': 76, 'learning_rate': 0.022318919956159707, 'feature_fraction': 0.9673230308777865, 'bagging_fraction': 0.7887966727225972, 'bagging_freq': 6, 'min_child_samples': 71}. Best is trial 17 with value: 1.1229645139128095.\n",
            "<ipython-input-30-936ca12ff7ff>:7: FutureWarning: suggest_loguniform has been deprecated in v3.0.0. This feature will be removed in v6.0.0. See https://github.com/optuna/optuna/releases/tag/v3.0.0. Use suggest_float(..., log=True) instead.\n",
            "  'learning_rate': trial.suggest_loguniform('learning_rate', 0.01, 0.1),\n",
            "<ipython-input-30-936ca12ff7ff>:8: FutureWarning: suggest_uniform has been deprecated in v3.0.0. This feature will be removed in v6.0.0. See https://github.com/optuna/optuna/releases/tag/v3.0.0. Use suggest_float instead.\n",
            "  'feature_fraction': trial.suggest_uniform('feature_fraction', 0.4, 1.0),\n",
            "<ipython-input-30-936ca12ff7ff>:9: FutureWarning: suggest_uniform has been deprecated in v3.0.0. This feature will be removed in v6.0.0. See https://github.com/optuna/optuna/releases/tag/v3.0.0. Use suggest_float instead.\n",
            "  'bagging_fraction': trial.suggest_uniform('bagging_fraction', 0.4, 1.0),\n",
            "[I 2025-05-29 05:53:27,552] Trial 18 finished with value: 1.1593703289359147 and parameters: {'num_leaves': 72, 'learning_rate': 0.08686455765696781, 'feature_fraction': 0.9971627116110241, 'bagging_fraction': 0.8605135967657164, 'bagging_freq': 6, 'min_child_samples': 88}. Best is trial 17 with value: 1.1229645139128095.\n",
            "<ipython-input-30-936ca12ff7ff>:7: FutureWarning: suggest_loguniform has been deprecated in v3.0.0. This feature will be removed in v6.0.0. See https://github.com/optuna/optuna/releases/tag/v3.0.0. Use suggest_float(..., log=True) instead.\n",
            "  'learning_rate': trial.suggest_loguniform('learning_rate', 0.01, 0.1),\n",
            "<ipython-input-30-936ca12ff7ff>:8: FutureWarning: suggest_uniform has been deprecated in v3.0.0. This feature will be removed in v6.0.0. See https://github.com/optuna/optuna/releases/tag/v3.0.0. Use suggest_float instead.\n",
            "  'feature_fraction': trial.suggest_uniform('feature_fraction', 0.4, 1.0),\n",
            "<ipython-input-30-936ca12ff7ff>:9: FutureWarning: suggest_uniform has been deprecated in v3.0.0. This feature will be removed in v6.0.0. See https://github.com/optuna/optuna/releases/tag/v3.0.0. Use suggest_float instead.\n",
            "  'bagging_fraction': trial.suggest_uniform('bagging_fraction', 0.4, 1.0),\n",
            "[I 2025-05-29 05:53:27,614] Trial 19 finished with value: 1.1263915535267717 and parameters: {'num_leaves': 79, 'learning_rate': 0.04897004808856711, 'feature_fraction': 0.8843052388590492, 'bagging_fraction': 0.5714182326622941, 'bagging_freq': 6, 'min_child_samples': 49}. Best is trial 17 with value: 1.1229645139128095.\n"
          ]
        },
        {
          "output_type": "stream",
          "name": "stdout",
          "text": [
            "Training until validation scores don't improve for 50 rounds\n",
            "Early stopping, best iteration is:\n",
            "[8]\tvalid_0's l1: 1.21472\n",
            "Training until validation scores don't improve for 50 rounds\n",
            "Early stopping, best iteration is:\n",
            "[102]\tvalid_0's l1: 1.12296\n",
            "Training until validation scores don't improve for 50 rounds\n",
            "Early stopping, best iteration is:\n",
            "[17]\tvalid_0's l1: 1.15937\n",
            "Training until validation scores don't improve for 50 rounds\n",
            "Early stopping, best iteration is:\n",
            "[85]\tvalid_0's l1: 1.12639\n"
          ]
        },
        {
          "output_type": "stream",
          "name": "stderr",
          "text": [
            "<ipython-input-30-936ca12ff7ff>:7: FutureWarning: suggest_loguniform has been deprecated in v3.0.0. This feature will be removed in v6.0.0. See https://github.com/optuna/optuna/releases/tag/v3.0.0. Use suggest_float(..., log=True) instead.\n",
            "  'learning_rate': trial.suggest_loguniform('learning_rate', 0.01, 0.1),\n",
            "<ipython-input-30-936ca12ff7ff>:8: FutureWarning: suggest_uniform has been deprecated in v3.0.0. This feature will be removed in v6.0.0. See https://github.com/optuna/optuna/releases/tag/v3.0.0. Use suggest_float instead.\n",
            "  'feature_fraction': trial.suggest_uniform('feature_fraction', 0.4, 1.0),\n",
            "<ipython-input-30-936ca12ff7ff>:9: FutureWarning: suggest_uniform has been deprecated in v3.0.0. This feature will be removed in v6.0.0. See https://github.com/optuna/optuna/releases/tag/v3.0.0. Use suggest_float instead.\n",
            "  'bagging_fraction': trial.suggest_uniform('bagging_fraction', 0.4, 1.0),\n",
            "[I 2025-05-29 05:53:27,693] Trial 20 finished with value: 1.142706745294317 and parameters: {'num_leaves': 56, 'learning_rate': 0.014524880457314782, 'feature_fraction': 0.9913338720985929, 'bagging_fraction': 0.688182648492573, 'bagging_freq': 3, 'min_child_samples': 69}. Best is trial 17 with value: 1.1229645139128095.\n",
            "<ipython-input-30-936ca12ff7ff>:7: FutureWarning: suggest_loguniform has been deprecated in v3.0.0. This feature will be removed in v6.0.0. See https://github.com/optuna/optuna/releases/tag/v3.0.0. Use suggest_float(..., log=True) instead.\n",
            "  'learning_rate': trial.suggest_loguniform('learning_rate', 0.01, 0.1),\n",
            "<ipython-input-30-936ca12ff7ff>:8: FutureWarning: suggest_uniform has been deprecated in v3.0.0. This feature will be removed in v6.0.0. See https://github.com/optuna/optuna/releases/tag/v3.0.0. Use suggest_float instead.\n",
            "  'feature_fraction': trial.suggest_uniform('feature_fraction', 0.4, 1.0),\n",
            "<ipython-input-30-936ca12ff7ff>:9: FutureWarning: suggest_uniform has been deprecated in v3.0.0. This feature will be removed in v6.0.0. See https://github.com/optuna/optuna/releases/tag/v3.0.0. Use suggest_float instead.\n",
            "  'bagging_fraction': trial.suggest_uniform('bagging_fraction', 0.4, 1.0),\n",
            "[I 2025-05-29 05:53:27,771] Trial 21 finished with value: 1.1290320148270352 and parameters: {'num_leaves': 93, 'learning_rate': 0.0232379308914625, 'feature_fraction': 0.7880332350213298, 'bagging_fraction': 0.7640153168435927, 'bagging_freq': 4, 'min_child_samples': 70}. Best is trial 17 with value: 1.1229645139128095.\n",
            "<ipython-input-30-936ca12ff7ff>:7: FutureWarning: suggest_loguniform has been deprecated in v3.0.0. This feature will be removed in v6.0.0. See https://github.com/optuna/optuna/releases/tag/v3.0.0. Use suggest_float(..., log=True) instead.\n",
            "  'learning_rate': trial.suggest_loguniform('learning_rate', 0.01, 0.1),\n",
            "<ipython-input-30-936ca12ff7ff>:8: FutureWarning: suggest_uniform has been deprecated in v3.0.0. This feature will be removed in v6.0.0. See https://github.com/optuna/optuna/releases/tag/v3.0.0. Use suggest_float instead.\n",
            "  'feature_fraction': trial.suggest_uniform('feature_fraction', 0.4, 1.0),\n",
            "<ipython-input-30-936ca12ff7ff>:9: FutureWarning: suggest_uniform has been deprecated in v3.0.0. This feature will be removed in v6.0.0. See https://github.com/optuna/optuna/releases/tag/v3.0.0. Use suggest_float instead.\n",
            "  'bagging_fraction': trial.suggest_uniform('bagging_fraction', 0.4, 1.0),\n",
            "[I 2025-05-29 05:53:27,841] Trial 22 finished with value: 1.1642647401072823 and parameters: {'num_leaves': 100, 'learning_rate': 0.020465510096730664, 'feature_fraction': 0.7381638598497346, 'bagging_fraction': 0.7744770312141304, 'bagging_freq': 6, 'min_child_samples': 85}. Best is trial 17 with value: 1.1229645139128095.\n"
          ]
        },
        {
          "output_type": "stream",
          "name": "stdout",
          "text": [
            "Training until validation scores don't improve for 50 rounds\n",
            "Early stopping, best iteration is:\n",
            "[240]\tvalid_0's l1: 1.14271\n",
            "Training until validation scores don't improve for 50 rounds\n",
            "Early stopping, best iteration is:\n",
            "[136]\tvalid_0's l1: 1.12903\n",
            "Training until validation scores don't improve for 50 rounds\n",
            "Early stopping, best iteration is:\n",
            "[108]\tvalid_0's l1: 1.16426\n"
          ]
        },
        {
          "output_type": "stream",
          "name": "stderr",
          "text": [
            "<ipython-input-30-936ca12ff7ff>:7: FutureWarning: suggest_loguniform has been deprecated in v3.0.0. This feature will be removed in v6.0.0. See https://github.com/optuna/optuna/releases/tag/v3.0.0. Use suggest_float(..., log=True) instead.\n",
            "  'learning_rate': trial.suggest_loguniform('learning_rate', 0.01, 0.1),\n",
            "<ipython-input-30-936ca12ff7ff>:8: FutureWarning: suggest_uniform has been deprecated in v3.0.0. This feature will be removed in v6.0.0. See https://github.com/optuna/optuna/releases/tag/v3.0.0. Use suggest_float instead.\n",
            "  'feature_fraction': trial.suggest_uniform('feature_fraction', 0.4, 1.0),\n",
            "<ipython-input-30-936ca12ff7ff>:9: FutureWarning: suggest_uniform has been deprecated in v3.0.0. This feature will be removed in v6.0.0. See https://github.com/optuna/optuna/releases/tag/v3.0.0. Use suggest_float instead.\n",
            "  'bagging_fraction': trial.suggest_uniform('bagging_fraction', 0.4, 1.0),\n",
            "[I 2025-05-29 05:53:27,909] Trial 23 finished with value: 1.1858786468864593 and parameters: {'num_leaves': 89, 'learning_rate': 0.038015754125142555, 'feature_fraction': 0.6620472663624094, 'bagging_fraction': 0.7917583364408168, 'bagging_freq': 4, 'min_child_samples': 50}. Best is trial 17 with value: 1.1229645139128095.\n",
            "<ipython-input-30-936ca12ff7ff>:7: FutureWarning: suggest_loguniform has been deprecated in v3.0.0. This feature will be removed in v6.0.0. See https://github.com/optuna/optuna/releases/tag/v3.0.0. Use suggest_float(..., log=True) instead.\n",
            "  'learning_rate': trial.suggest_loguniform('learning_rate', 0.01, 0.1),\n",
            "<ipython-input-30-936ca12ff7ff>:8: FutureWarning: suggest_uniform has been deprecated in v3.0.0. This feature will be removed in v6.0.0. See https://github.com/optuna/optuna/releases/tag/v3.0.0. Use suggest_float instead.\n",
            "  'feature_fraction': trial.suggest_uniform('feature_fraction', 0.4, 1.0),\n",
            "<ipython-input-30-936ca12ff7ff>:9: FutureWarning: suggest_uniform has been deprecated in v3.0.0. This feature will be removed in v6.0.0. See https://github.com/optuna/optuna/releases/tag/v3.0.0. Use suggest_float instead.\n",
            "  'bagging_fraction': trial.suggest_uniform('bagging_fraction', 0.4, 1.0),\n",
            "[I 2025-05-29 05:53:27,971] Trial 24 finished with value: 1.1567872377593995 and parameters: {'num_leaves': 79, 'learning_rate': 0.027692801886550437, 'feature_fraction': 0.9387035247462296, 'bagging_fraction': 0.6703459402644146, 'bagging_freq': 5, 'min_child_samples': 72}. Best is trial 17 with value: 1.1229645139128095.\n",
            "<ipython-input-30-936ca12ff7ff>:7: FutureWarning: suggest_loguniform has been deprecated in v3.0.0. This feature will be removed in v6.0.0. See https://github.com/optuna/optuna/releases/tag/v3.0.0. Use suggest_float(..., log=True) instead.\n",
            "  'learning_rate': trial.suggest_loguniform('learning_rate', 0.01, 0.1),\n",
            "<ipython-input-30-936ca12ff7ff>:8: FutureWarning: suggest_uniform has been deprecated in v3.0.0. This feature will be removed in v6.0.0. See https://github.com/optuna/optuna/releases/tag/v3.0.0. Use suggest_float instead.\n",
            "  'feature_fraction': trial.suggest_uniform('feature_fraction', 0.4, 1.0),\n",
            "<ipython-input-30-936ca12ff7ff>:9: FutureWarning: suggest_uniform has been deprecated in v3.0.0. This feature will be removed in v6.0.0. See https://github.com/optuna/optuna/releases/tag/v3.0.0. Use suggest_float instead.\n",
            "  'bagging_fraction': trial.suggest_uniform('bagging_fraction', 0.4, 1.0),\n",
            "[I 2025-05-29 05:53:28,042] Trial 25 finished with value: 1.130641986795671 and parameters: {'num_leaves': 79, 'learning_rate': 0.014747364342552579, 'feature_fraction': 0.8354293378912645, 'bagging_fraction': 0.8545996941803571, 'bagging_freq': 7, 'min_child_samples': 67}. Best is trial 17 with value: 1.1229645139128095.\n",
            "<ipython-input-30-936ca12ff7ff>:7: FutureWarning: suggest_loguniform has been deprecated in v3.0.0. This feature will be removed in v6.0.0. See https://github.com/optuna/optuna/releases/tag/v3.0.0. Use suggest_float(..., log=True) instead.\n",
            "  'learning_rate': trial.suggest_loguniform('learning_rate', 0.01, 0.1),\n",
            "<ipython-input-30-936ca12ff7ff>:8: FutureWarning: suggest_uniform has been deprecated in v3.0.0. This feature will be removed in v6.0.0. See https://github.com/optuna/optuna/releases/tag/v3.0.0. Use suggest_float instead.\n",
            "  'feature_fraction': trial.suggest_uniform('feature_fraction', 0.4, 1.0),\n",
            "<ipython-input-30-936ca12ff7ff>:9: FutureWarning: suggest_uniform has been deprecated in v3.0.0. This feature will be removed in v6.0.0. See https://github.com/optuna/optuna/releases/tag/v3.0.0. Use suggest_float instead.\n",
            "  'bagging_fraction': trial.suggest_uniform('bagging_fraction', 0.4, 1.0),\n"
          ]
        },
        {
          "output_type": "stream",
          "name": "stdout",
          "text": [
            "Training until validation scores don't improve for 50 rounds\n",
            "Early stopping, best iteration is:\n",
            "[24]\tvalid_0's l1: 1.18588\n",
            "Training until validation scores don't improve for 50 rounds\n",
            "Early stopping, best iteration is:\n",
            "[105]\tvalid_0's l1: 1.15679\n",
            "Training until validation scores don't improve for 50 rounds\n",
            "Early stopping, best iteration is:\n",
            "[124]\tvalid_0's l1: 1.13064\n"
          ]
        },
        {
          "output_type": "stream",
          "name": "stderr",
          "text": [
            "[I 2025-05-29 05:53:28,113] Trial 26 finished with value: 1.1541986025460123 and parameters: {'num_leaves': 93, 'learning_rate': 0.03355719368298435, 'feature_fraction': 0.5950921744324178, 'bagging_fraction': 0.9445300239461768, 'bagging_freq': 6, 'min_child_samples': 98}. Best is trial 17 with value: 1.1229645139128095.\n",
            "<ipython-input-30-936ca12ff7ff>:7: FutureWarning: suggest_loguniform has been deprecated in v3.0.0. This feature will be removed in v6.0.0. See https://github.com/optuna/optuna/releases/tag/v3.0.0. Use suggest_float(..., log=True) instead.\n",
            "  'learning_rate': trial.suggest_loguniform('learning_rate', 0.01, 0.1),\n",
            "<ipython-input-30-936ca12ff7ff>:8: FutureWarning: suggest_uniform has been deprecated in v3.0.0. This feature will be removed in v6.0.0. See https://github.com/optuna/optuna/releases/tag/v3.0.0. Use suggest_float instead.\n",
            "  'feature_fraction': trial.suggest_uniform('feature_fraction', 0.4, 1.0),\n",
            "<ipython-input-30-936ca12ff7ff>:9: FutureWarning: suggest_uniform has been deprecated in v3.0.0. This feature will be removed in v6.0.0. See https://github.com/optuna/optuna/releases/tag/v3.0.0. Use suggest_float instead.\n",
            "  'bagging_fraction': trial.suggest_uniform('bagging_fraction', 0.4, 1.0),\n",
            "[I 2025-05-29 05:53:28,188] Trial 27 finished with value: 1.162818253813681 and parameters: {'num_leaves': 72, 'learning_rate': 0.02386539128488508, 'feature_fraction': 0.745214649931689, 'bagging_fraction': 0.743706929680938, 'bagging_freq': 4, 'min_child_samples': 76}. Best is trial 17 with value: 1.1229645139128095.\n",
            "<ipython-input-30-936ca12ff7ff>:7: FutureWarning: suggest_loguniform has been deprecated in v3.0.0. This feature will be removed in v6.0.0. See https://github.com/optuna/optuna/releases/tag/v3.0.0. Use suggest_float(..., log=True) instead.\n",
            "  'learning_rate': trial.suggest_loguniform('learning_rate', 0.01, 0.1),\n",
            "<ipython-input-30-936ca12ff7ff>:8: FutureWarning: suggest_uniform has been deprecated in v3.0.0. This feature will be removed in v6.0.0. See https://github.com/optuna/optuna/releases/tag/v3.0.0. Use suggest_float instead.\n",
            "  'feature_fraction': trial.suggest_uniform('feature_fraction', 0.4, 1.0),\n",
            "<ipython-input-30-936ca12ff7ff>:9: FutureWarning: suggest_uniform has been deprecated in v3.0.0. This feature will be removed in v6.0.0. See https://github.com/optuna/optuna/releases/tag/v3.0.0. Use suggest_float instead.\n",
            "  'bagging_fraction': trial.suggest_uniform('bagging_fraction', 0.4, 1.0),\n",
            "[I 2025-05-29 05:53:28,246] Trial 28 finished with value: 1.2079232055762432 and parameters: {'num_leaves': 94, 'learning_rate': 0.018258332132224137, 'feature_fraction': 0.9252298685895272, 'bagging_fraction': 0.9096445278338303, 'bagging_freq': 5, 'min_child_samples': 56}. Best is trial 17 with value: 1.1229645139128095.\n"
          ]
        },
        {
          "output_type": "stream",
          "name": "stdout",
          "text": [
            "Training until validation scores don't improve for 50 rounds\n",
            "Early stopping, best iteration is:\n",
            "[86]\tvalid_0's l1: 1.1542\n",
            "Training until validation scores don't improve for 50 rounds\n",
            "Early stopping, best iteration is:\n",
            "[127]\tvalid_0's l1: 1.16282\n",
            "Training until validation scores don't improve for 50 rounds\n",
            "Early stopping, best iteration is:\n",
            "[33]\tvalid_0's l1: 1.20792\n",
            "Training until validation scores don't improve for 50 rounds\n"
          ]
        },
        {
          "output_type": "stream",
          "name": "stderr",
          "text": [
            "<ipython-input-30-936ca12ff7ff>:7: FutureWarning: suggest_loguniform has been deprecated in v3.0.0. This feature will be removed in v6.0.0. See https://github.com/optuna/optuna/releases/tag/v3.0.0. Use suggest_float(..., log=True) instead.\n",
            "  'learning_rate': trial.suggest_loguniform('learning_rate', 0.01, 0.1),\n",
            "<ipython-input-30-936ca12ff7ff>:8: FutureWarning: suggest_uniform has been deprecated in v3.0.0. This feature will be removed in v6.0.0. See https://github.com/optuna/optuna/releases/tag/v3.0.0. Use suggest_float instead.\n",
            "  'feature_fraction': trial.suggest_uniform('feature_fraction', 0.4, 1.0),\n",
            "<ipython-input-30-936ca12ff7ff>:9: FutureWarning: suggest_uniform has been deprecated in v3.0.0. This feature will be removed in v6.0.0. See https://github.com/optuna/optuna/releases/tag/v3.0.0. Use suggest_float instead.\n",
            "  'bagging_fraction': trial.suggest_uniform('bagging_fraction', 0.4, 1.0),\n",
            "[I 2025-05-29 05:53:28,314] Trial 29 finished with value: 1.2124282796266797 and parameters: {'num_leaves': 82, 'learning_rate': 0.010804962934744256, 'feature_fraction': 0.8437947245911916, 'bagging_fraction': 0.7166015803252656, 'bagging_freq': 5, 'min_child_samples': 32}. Best is trial 17 with value: 1.1229645139128095.\n",
            "<ipython-input-30-936ca12ff7ff>:7: FutureWarning: suggest_loguniform has been deprecated in v3.0.0. This feature will be removed in v6.0.0. See https://github.com/optuna/optuna/releases/tag/v3.0.0. Use suggest_float(..., log=True) instead.\n",
            "  'learning_rate': trial.suggest_loguniform('learning_rate', 0.01, 0.1),\n",
            "<ipython-input-30-936ca12ff7ff>:8: FutureWarning: suggest_uniform has been deprecated in v3.0.0. This feature will be removed in v6.0.0. See https://github.com/optuna/optuna/releases/tag/v3.0.0. Use suggest_float instead.\n",
            "  'feature_fraction': trial.suggest_uniform('feature_fraction', 0.4, 1.0),\n",
            "<ipython-input-30-936ca12ff7ff>:9: FutureWarning: suggest_uniform has been deprecated in v3.0.0. This feature will be removed in v6.0.0. See https://github.com/optuna/optuna/releases/tag/v3.0.0. Use suggest_float instead.\n",
            "  'bagging_fraction': trial.suggest_uniform('bagging_fraction', 0.4, 1.0),\n",
            "[I 2025-05-29 05:53:28,396] Trial 30 finished with value: 1.1043000451758527 and parameters: {'num_leaves': 67, 'learning_rate': 0.029476147003908375, 'feature_fraction': 0.6662469979550533, 'bagging_fraction': 0.8431593921868096, 'bagging_freq': 6, 'min_child_samples': 63}. Best is trial 30 with value: 1.1043000451758527.\n",
            "<ipython-input-30-936ca12ff7ff>:7: FutureWarning: suggest_loguniform has been deprecated in v3.0.0. This feature will be removed in v6.0.0. See https://github.com/optuna/optuna/releases/tag/v3.0.0. Use suggest_float(..., log=True) instead.\n",
            "  'learning_rate': trial.suggest_loguniform('learning_rate', 0.01, 0.1),\n",
            "<ipython-input-30-936ca12ff7ff>:8: FutureWarning: suggest_uniform has been deprecated in v3.0.0. This feature will be removed in v6.0.0. See https://github.com/optuna/optuna/releases/tag/v3.0.0. Use suggest_float instead.\n",
            "  'feature_fraction': trial.suggest_uniform('feature_fraction', 0.4, 1.0),\n",
            "<ipython-input-30-936ca12ff7ff>:9: FutureWarning: suggest_uniform has been deprecated in v3.0.0. This feature will be removed in v6.0.0. See https://github.com/optuna/optuna/releases/tag/v3.0.0. Use suggest_float instead.\n",
            "  'bagging_fraction': trial.suggest_uniform('bagging_fraction', 0.4, 1.0),\n",
            "[I 2025-05-29 05:53:28,470] Trial 31 finished with value: 1.0535674144943947 and parameters: {'num_leaves': 63, 'learning_rate': 0.030504687548897798, 'feature_fraction': 0.6617818492225828, 'bagging_fraction': 0.814204258471916, 'bagging_freq': 6, 'min_child_samples': 66}. Best is trial 31 with value: 1.0535674144943947.\n"
          ]
        },
        {
          "output_type": "stream",
          "name": "stdout",
          "text": [
            "Early stopping, best iteration is:\n",
            "[74]\tvalid_0's l1: 1.21243\n",
            "Training until validation scores don't improve for 50 rounds\n",
            "Early stopping, best iteration is:\n",
            "[35]\tvalid_0's l1: 1.1043\n",
            "Training until validation scores don't improve for 50 rounds\n",
            "Early stopping, best iteration is:\n",
            "[37]\tvalid_0's l1: 1.05357\n"
          ]
        },
        {
          "output_type": "stream",
          "name": "stderr",
          "text": [
            "<ipython-input-30-936ca12ff7ff>:7: FutureWarning: suggest_loguniform has been deprecated in v3.0.0. This feature will be removed in v6.0.0. See https://github.com/optuna/optuna/releases/tag/v3.0.0. Use suggest_float(..., log=True) instead.\n",
            "  'learning_rate': trial.suggest_loguniform('learning_rate', 0.01, 0.1),\n",
            "<ipython-input-30-936ca12ff7ff>:8: FutureWarning: suggest_uniform has been deprecated in v3.0.0. This feature will be removed in v6.0.0. See https://github.com/optuna/optuna/releases/tag/v3.0.0. Use suggest_float instead.\n",
            "  'feature_fraction': trial.suggest_uniform('feature_fraction', 0.4, 1.0),\n",
            "<ipython-input-30-936ca12ff7ff>:9: FutureWarning: suggest_uniform has been deprecated in v3.0.0. This feature will be removed in v6.0.0. See https://github.com/optuna/optuna/releases/tag/v3.0.0. Use suggest_float instead.\n",
            "  'bagging_fraction': trial.suggest_uniform('bagging_fraction', 0.4, 1.0),\n",
            "[I 2025-05-29 05:53:28,546] Trial 32 finished with value: 1.0338749994054952 and parameters: {'num_leaves': 62, 'learning_rate': 0.030059204675789875, 'feature_fraction': 0.6854307181617261, 'bagging_fraction': 0.8433674076721193, 'bagging_freq': 7, 'min_child_samples': 56}. Best is trial 32 with value: 1.0338749994054952.\n",
            "<ipython-input-30-936ca12ff7ff>:7: FutureWarning: suggest_loguniform has been deprecated in v3.0.0. This feature will be removed in v6.0.0. See https://github.com/optuna/optuna/releases/tag/v3.0.0. Use suggest_float(..., log=True) instead.\n",
            "  'learning_rate': trial.suggest_loguniform('learning_rate', 0.01, 0.1),\n",
            "<ipython-input-30-936ca12ff7ff>:8: FutureWarning: suggest_uniform has been deprecated in v3.0.0. This feature will be removed in v6.0.0. See https://github.com/optuna/optuna/releases/tag/v3.0.0. Use suggest_float instead.\n",
            "  'feature_fraction': trial.suggest_uniform('feature_fraction', 0.4, 1.0),\n",
            "<ipython-input-30-936ca12ff7ff>:9: FutureWarning: suggest_uniform has been deprecated in v3.0.0. This feature will be removed in v6.0.0. See https://github.com/optuna/optuna/releases/tag/v3.0.0. Use suggest_float instead.\n",
            "  'bagging_fraction': trial.suggest_uniform('bagging_fraction', 0.4, 1.0),\n",
            "[I 2025-05-29 05:53:28,616] Trial 33 finished with value: 1.0368784149073556 and parameters: {'num_leaves': 60, 'learning_rate': 0.030363089254319114, 'feature_fraction': 0.6599145280021925, 'bagging_fraction': 0.8455776193342919, 'bagging_freq': 7, 'min_child_samples': 55}. Best is trial 32 with value: 1.0338749994054952.\n",
            "<ipython-input-30-936ca12ff7ff>:7: FutureWarning: suggest_loguniform has been deprecated in v3.0.0. This feature will be removed in v6.0.0. See https://github.com/optuna/optuna/releases/tag/v3.0.0. Use suggest_float(..., log=True) instead.\n",
            "  'learning_rate': trial.suggest_loguniform('learning_rate', 0.01, 0.1),\n",
            "<ipython-input-30-936ca12ff7ff>:8: FutureWarning: suggest_uniform has been deprecated in v3.0.0. This feature will be removed in v6.0.0. See https://github.com/optuna/optuna/releases/tag/v3.0.0. Use suggest_float instead.\n",
            "  'feature_fraction': trial.suggest_uniform('feature_fraction', 0.4, 1.0),\n",
            "<ipython-input-30-936ca12ff7ff>:9: FutureWarning: suggest_uniform has been deprecated in v3.0.0. This feature will be removed in v6.0.0. See https://github.com/optuna/optuna/releases/tag/v3.0.0. Use suggest_float instead.\n",
            "  'bagging_fraction': trial.suggest_uniform('bagging_fraction', 0.4, 1.0),\n",
            "[I 2025-05-29 05:53:28,685] Trial 34 finished with value: 1.0402385561682757 and parameters: {'num_leaves': 62, 'learning_rate': 0.031248548113236425, 'feature_fraction': 0.6690079213588923, 'bagging_fraction': 0.9489670981113227, 'bagging_freq': 7, 'min_child_samples': 46}. Best is trial 32 with value: 1.0338749994054952.\n"
          ]
        },
        {
          "output_type": "stream",
          "name": "stdout",
          "text": [
            "Training until validation scores don't improve for 50 rounds\n",
            "Early stopping, best iteration is:\n",
            "[39]\tvalid_0's l1: 1.03387\n",
            "Training until validation scores don't improve for 50 rounds\n",
            "Early stopping, best iteration is:\n",
            "[22]\tvalid_0's l1: 1.03688\n",
            "Training until validation scores don't improve for 50 rounds\n",
            "Early stopping, best iteration is:\n",
            "[29]\tvalid_0's l1: 1.04024\n"
          ]
        },
        {
          "output_type": "stream",
          "name": "stderr",
          "text": [
            "<ipython-input-30-936ca12ff7ff>:7: FutureWarning: suggest_loguniform has been deprecated in v3.0.0. This feature will be removed in v6.0.0. See https://github.com/optuna/optuna/releases/tag/v3.0.0. Use suggest_float(..., log=True) instead.\n",
            "  'learning_rate': trial.suggest_loguniform('learning_rate', 0.01, 0.1),\n",
            "<ipython-input-30-936ca12ff7ff>:8: FutureWarning: suggest_uniform has been deprecated in v3.0.0. This feature will be removed in v6.0.0. See https://github.com/optuna/optuna/releases/tag/v3.0.0. Use suggest_float instead.\n",
            "  'feature_fraction': trial.suggest_uniform('feature_fraction', 0.4, 1.0),\n",
            "<ipython-input-30-936ca12ff7ff>:9: FutureWarning: suggest_uniform has been deprecated in v3.0.0. This feature will be removed in v6.0.0. See https://github.com/optuna/optuna/releases/tag/v3.0.0. Use suggest_float instead.\n",
            "  'bagging_fraction': trial.suggest_uniform('bagging_fraction', 0.4, 1.0),\n",
            "[I 2025-05-29 05:53:28,759] Trial 35 finished with value: 1.0443860512467116 and parameters: {'num_leaves': 56, 'learning_rate': 0.03320748890403456, 'feature_fraction': 0.602476680544991, 'bagging_fraction': 0.9822359810196845, 'bagging_freq': 7, 'min_child_samples': 28}. Best is trial 32 with value: 1.0338749994054952.\n",
            "<ipython-input-30-936ca12ff7ff>:7: FutureWarning: suggest_loguniform has been deprecated in v3.0.0. This feature will be removed in v6.0.0. See https://github.com/optuna/optuna/releases/tag/v3.0.0. Use suggest_float(..., log=True) instead.\n",
            "  'learning_rate': trial.suggest_loguniform('learning_rate', 0.01, 0.1),\n",
            "<ipython-input-30-936ca12ff7ff>:8: FutureWarning: suggest_uniform has been deprecated in v3.0.0. This feature will be removed in v6.0.0. See https://github.com/optuna/optuna/releases/tag/v3.0.0. Use suggest_float instead.\n",
            "  'feature_fraction': trial.suggest_uniform('feature_fraction', 0.4, 1.0),\n",
            "<ipython-input-30-936ca12ff7ff>:9: FutureWarning: suggest_uniform has been deprecated in v3.0.0. This feature will be removed in v6.0.0. See https://github.com/optuna/optuna/releases/tag/v3.0.0. Use suggest_float instead.\n",
            "  'bagging_fraction': trial.suggest_uniform('bagging_fraction', 0.4, 1.0),\n",
            "[I 2025-05-29 05:53:28,828] Trial 36 finished with value: 1.0449169392265576 and parameters: {'num_leaves': 56, 'learning_rate': 0.03423327577577743, 'feature_fraction': 0.6080580002285251, 'bagging_fraction': 0.9841651747691458, 'bagging_freq': 7, 'min_child_samples': 27}. Best is trial 32 with value: 1.0338749994054952.\n",
            "<ipython-input-30-936ca12ff7ff>:7: FutureWarning: suggest_loguniform has been deprecated in v3.0.0. This feature will be removed in v6.0.0. See https://github.com/optuna/optuna/releases/tag/v3.0.0. Use suggest_float(..., log=True) instead.\n",
            "  'learning_rate': trial.suggest_loguniform('learning_rate', 0.01, 0.1),\n",
            "<ipython-input-30-936ca12ff7ff>:8: FutureWarning: suggest_uniform has been deprecated in v3.0.0. This feature will be removed in v6.0.0. See https://github.com/optuna/optuna/releases/tag/v3.0.0. Use suggest_float instead.\n",
            "  'feature_fraction': trial.suggest_uniform('feature_fraction', 0.4, 1.0),\n",
            "<ipython-input-30-936ca12ff7ff>:9: FutureWarning: suggest_uniform has been deprecated in v3.0.0. This feature will be removed in v6.0.0. See https://github.com/optuna/optuna/releases/tag/v3.0.0. Use suggest_float instead.\n",
            "  'bagging_fraction': trial.suggest_uniform('bagging_fraction', 0.4, 1.0),\n",
            "[I 2025-05-29 05:53:28,900] Trial 37 finished with value: 0.9659338010849285 and parameters: {'num_leaves': 57, 'learning_rate': 0.058427057938145795, 'feature_fraction': 0.549642044041081, 'bagging_fraction': 0.9424324213547003, 'bagging_freq': 7, 'min_child_samples': 22}. Best is trial 37 with value: 0.9659338010849285.\n"
          ]
        },
        {
          "output_type": "stream",
          "name": "stdout",
          "text": [
            "Training until validation scores don't improve for 50 rounds\n",
            "Early stopping, best iteration is:\n",
            "[18]\tvalid_0's l1: 1.04439\n",
            "Training until validation scores don't improve for 50 rounds\n",
            "Early stopping, best iteration is:\n",
            "[18]\tvalid_0's l1: 1.04492\n",
            "Training until validation scores don't improve for 50 rounds\n",
            "Early stopping, best iteration is:\n",
            "[37]\tvalid_0's l1: 0.965934\n"
          ]
        },
        {
          "output_type": "stream",
          "name": "stderr",
          "text": [
            "<ipython-input-30-936ca12ff7ff>:7: FutureWarning: suggest_loguniform has been deprecated in v3.0.0. This feature will be removed in v6.0.0. See https://github.com/optuna/optuna/releases/tag/v3.0.0. Use suggest_float(..., log=True) instead.\n",
            "  'learning_rate': trial.suggest_loguniform('learning_rate', 0.01, 0.1),\n",
            "<ipython-input-30-936ca12ff7ff>:8: FutureWarning: suggest_uniform has been deprecated in v3.0.0. This feature will be removed in v6.0.0. See https://github.com/optuna/optuna/releases/tag/v3.0.0. Use suggest_float instead.\n",
            "  'feature_fraction': trial.suggest_uniform('feature_fraction', 0.4, 1.0),\n",
            "<ipython-input-30-936ca12ff7ff>:9: FutureWarning: suggest_uniform has been deprecated in v3.0.0. This feature will be removed in v6.0.0. See https://github.com/optuna/optuna/releases/tag/v3.0.0. Use suggest_float instead.\n",
            "  'bagging_fraction': trial.suggest_uniform('bagging_fraction', 0.4, 1.0),\n",
            "[I 2025-05-29 05:53:28,975] Trial 38 finished with value: 0.9427366125548355 and parameters: {'num_leaves': 42, 'learning_rate': 0.06076887548445978, 'feature_fraction': 0.532583369902118, 'bagging_fraction': 0.9469273955059043, 'bagging_freq': 7, 'min_child_samples': 16}. Best is trial 38 with value: 0.9427366125548355.\n",
            "<ipython-input-30-936ca12ff7ff>:7: FutureWarning: suggest_loguniform has been deprecated in v3.0.0. This feature will be removed in v6.0.0. See https://github.com/optuna/optuna/releases/tag/v3.0.0. Use suggest_float(..., log=True) instead.\n",
            "  'learning_rate': trial.suggest_loguniform('learning_rate', 0.01, 0.1),\n",
            "<ipython-input-30-936ca12ff7ff>:8: FutureWarning: suggest_uniform has been deprecated in v3.0.0. This feature will be removed in v6.0.0. See https://github.com/optuna/optuna/releases/tag/v3.0.0. Use suggest_float instead.\n",
            "  'feature_fraction': trial.suggest_uniform('feature_fraction', 0.4, 1.0),\n",
            "<ipython-input-30-936ca12ff7ff>:9: FutureWarning: suggest_uniform has been deprecated in v3.0.0. This feature will be removed in v6.0.0. See https://github.com/optuna/optuna/releases/tag/v3.0.0. Use suggest_float instead.\n",
            "  'bagging_fraction': trial.suggest_uniform('bagging_fraction', 0.4, 1.0),\n",
            "[I 2025-05-29 05:53:29,047] Trial 39 finished with value: 0.9269252430136228 and parameters: {'num_leaves': 40, 'learning_rate': 0.06543611872290336, 'feature_fraction': 0.5018696626482487, 'bagging_fraction': 0.9135662083468168, 'bagging_freq': 7, 'min_child_samples': 19}. Best is trial 39 with value: 0.9269252430136228.\n",
            "<ipython-input-30-936ca12ff7ff>:7: FutureWarning: suggest_loguniform has been deprecated in v3.0.0. This feature will be removed in v6.0.0. See https://github.com/optuna/optuna/releases/tag/v3.0.0. Use suggest_float(..., log=True) instead.\n",
            "  'learning_rate': trial.suggest_loguniform('learning_rate', 0.01, 0.1),\n",
            "<ipython-input-30-936ca12ff7ff>:8: FutureWarning: suggest_uniform has been deprecated in v3.0.0. This feature will be removed in v6.0.0. See https://github.com/optuna/optuna/releases/tag/v3.0.0. Use suggest_float instead.\n",
            "  'feature_fraction': trial.suggest_uniform('feature_fraction', 0.4, 1.0),\n",
            "<ipython-input-30-936ca12ff7ff>:9: FutureWarning: suggest_uniform has been deprecated in v3.0.0. This feature will be removed in v6.0.0. See https://github.com/optuna/optuna/releases/tag/v3.0.0. Use suggest_float instead.\n",
            "  'bagging_fraction': trial.suggest_uniform('bagging_fraction', 0.4, 1.0),\n",
            "[I 2025-05-29 05:53:29,120] Trial 40 finished with value: 0.9233718091030282 and parameters: {'num_leaves': 38, 'learning_rate': 0.0682251927036432, 'feature_fraction': 0.49219802595672324, 'bagging_fraction': 0.9208487020175203, 'bagging_freq': 7, 'min_child_samples': 16}. Best is trial 40 with value: 0.9233718091030282.\n"
          ]
        },
        {
          "output_type": "stream",
          "name": "stdout",
          "text": [
            "Training until validation scores don't improve for 50 rounds\n",
            "Early stopping, best iteration is:\n",
            "[23]\tvalid_0's l1: 0.942737\n",
            "Training until validation scores don't improve for 50 rounds\n",
            "Early stopping, best iteration is:\n",
            "[23]\tvalid_0's l1: 0.926925\n",
            "Training until validation scores don't improve for 50 rounds\n",
            "Early stopping, best iteration is:\n",
            "[27]\tvalid_0's l1: 0.923372\n"
          ]
        },
        {
          "output_type": "stream",
          "name": "stderr",
          "text": [
            "<ipython-input-30-936ca12ff7ff>:7: FutureWarning: suggest_loguniform has been deprecated in v3.0.0. This feature will be removed in v6.0.0. See https://github.com/optuna/optuna/releases/tag/v3.0.0. Use suggest_float(..., log=True) instead.\n",
            "  'learning_rate': trial.suggest_loguniform('learning_rate', 0.01, 0.1),\n",
            "<ipython-input-30-936ca12ff7ff>:8: FutureWarning: suggest_uniform has been deprecated in v3.0.0. This feature will be removed in v6.0.0. See https://github.com/optuna/optuna/releases/tag/v3.0.0. Use suggest_float instead.\n",
            "  'feature_fraction': trial.suggest_uniform('feature_fraction', 0.4, 1.0),\n",
            "<ipython-input-30-936ca12ff7ff>:9: FutureWarning: suggest_uniform has been deprecated in v3.0.0. This feature will be removed in v6.0.0. See https://github.com/optuna/optuna/releases/tag/v3.0.0. Use suggest_float instead.\n",
            "  'bagging_fraction': trial.suggest_uniform('bagging_fraction', 0.4, 1.0),\n",
            "[I 2025-05-29 05:53:29,195] Trial 41 finished with value: 0.9543863365897228 and parameters: {'num_leaves': 37, 'learning_rate': 0.06929038421653538, 'feature_fraction': 0.5050609184992579, 'bagging_fraction': 0.9197969792571676, 'bagging_freq': 7, 'min_child_samples': 17}. Best is trial 40 with value: 0.9233718091030282.\n",
            "<ipython-input-30-936ca12ff7ff>:7: FutureWarning: suggest_loguniform has been deprecated in v3.0.0. This feature will be removed in v6.0.0. See https://github.com/optuna/optuna/releases/tag/v3.0.0. Use suggest_float(..., log=True) instead.\n",
            "  'learning_rate': trial.suggest_loguniform('learning_rate', 0.01, 0.1),\n",
            "<ipython-input-30-936ca12ff7ff>:8: FutureWarning: suggest_uniform has been deprecated in v3.0.0. This feature will be removed in v6.0.0. See https://github.com/optuna/optuna/releases/tag/v3.0.0. Use suggest_float instead.\n",
            "  'feature_fraction': trial.suggest_uniform('feature_fraction', 0.4, 1.0),\n",
            "<ipython-input-30-936ca12ff7ff>:9: FutureWarning: suggest_uniform has been deprecated in v3.0.0. This feature will be removed in v6.0.0. See https://github.com/optuna/optuna/releases/tag/v3.0.0. Use suggest_float instead.\n",
            "  'bagging_fraction': trial.suggest_uniform('bagging_fraction', 0.4, 1.0),\n",
            "[I 2025-05-29 05:53:29,267] Trial 42 finished with value: 0.9264794902250484 and parameters: {'num_leaves': 37, 'learning_rate': 0.06977891767325198, 'feature_fraction': 0.4997560478028223, 'bagging_fraction': 0.9194755158354707, 'bagging_freq': 7, 'min_child_samples': 17}. Best is trial 40 with value: 0.9233718091030282.\n",
            "<ipython-input-30-936ca12ff7ff>:7: FutureWarning: suggest_loguniform has been deprecated in v3.0.0. This feature will be removed in v6.0.0. See https://github.com/optuna/optuna/releases/tag/v3.0.0. Use suggest_float(..., log=True) instead.\n",
            "  'learning_rate': trial.suggest_loguniform('learning_rate', 0.01, 0.1),\n",
            "<ipython-input-30-936ca12ff7ff>:8: FutureWarning: suggest_uniform has been deprecated in v3.0.0. This feature will be removed in v6.0.0. See https://github.com/optuna/optuna/releases/tag/v3.0.0. Use suggest_float instead.\n",
            "  'feature_fraction': trial.suggest_uniform('feature_fraction', 0.4, 1.0),\n",
            "<ipython-input-30-936ca12ff7ff>:9: FutureWarning: suggest_uniform has been deprecated in v3.0.0. This feature will be removed in v6.0.0. See https://github.com/optuna/optuna/releases/tag/v3.0.0. Use suggest_float instead.\n",
            "  'bagging_fraction': trial.suggest_uniform('bagging_fraction', 0.4, 1.0),\n"
          ]
        },
        {
          "output_type": "stream",
          "name": "stdout",
          "text": [
            "Training until validation scores don't improve for 50 rounds\n",
            "Early stopping, best iteration is:\n",
            "[20]\tvalid_0's l1: 0.954386\n",
            "Training until validation scores don't improve for 50 rounds\n",
            "Early stopping, best iteration is:\n",
            "[23]\tvalid_0's l1: 0.92648\n",
            "Training until validation scores don't improve for 50 rounds\n",
            "Early stopping, best iteration is:\n",
            "[72]\tvalid_0's l1: 0.774702\n"
          ]
        },
        {
          "output_type": "stream",
          "name": "stderr",
          "text": [
            "[I 2025-05-29 05:53:29,381] Trial 43 finished with value: 0.7747019014620172 and parameters: {'num_leaves': 37, 'learning_rate': 0.07373524309495044, 'feature_fraction': 0.48629998396328916, 'bagging_fraction': 0.9660005727772315, 'bagging_freq': 7, 'min_child_samples': 5}. Best is trial 43 with value: 0.7747019014620172.\n",
            "<ipython-input-30-936ca12ff7ff>:7: FutureWarning: suggest_loguniform has been deprecated in v3.0.0. This feature will be removed in v6.0.0. See https://github.com/optuna/optuna/releases/tag/v3.0.0. Use suggest_float(..., log=True) instead.\n",
            "  'learning_rate': trial.suggest_loguniform('learning_rate', 0.01, 0.1),\n",
            "<ipython-input-30-936ca12ff7ff>:8: FutureWarning: suggest_uniform has been deprecated in v3.0.0. This feature will be removed in v6.0.0. See https://github.com/optuna/optuna/releases/tag/v3.0.0. Use suggest_float instead.\n",
            "  'feature_fraction': trial.suggest_uniform('feature_fraction', 0.4, 1.0),\n",
            "<ipython-input-30-936ca12ff7ff>:9: FutureWarning: suggest_uniform has been deprecated in v3.0.0. This feature will be removed in v6.0.0. See https://github.com/optuna/optuna/releases/tag/v3.0.0. Use suggest_float instead.\n",
            "  'bagging_fraction': trial.suggest_uniform('bagging_fraction', 0.4, 1.0),\n",
            "[I 2025-05-29 05:53:29,497] Trial 44 finished with value: 0.7618986927203768 and parameters: {'num_leaves': 37, 'learning_rate': 0.07717198850581429, 'feature_fraction': 0.47440749584688807, 'bagging_fraction': 0.8888556459848093, 'bagging_freq': 1, 'min_child_samples': 7}. Best is trial 44 with value: 0.7618986927203768.\n",
            "<ipython-input-30-936ca12ff7ff>:7: FutureWarning: suggest_loguniform has been deprecated in v3.0.0. This feature will be removed in v6.0.0. See https://github.com/optuna/optuna/releases/tag/v3.0.0. Use suggest_float(..., log=True) instead.\n",
            "  'learning_rate': trial.suggest_loguniform('learning_rate', 0.01, 0.1),\n",
            "<ipython-input-30-936ca12ff7ff>:8: FutureWarning: suggest_uniform has been deprecated in v3.0.0. This feature will be removed in v6.0.0. See https://github.com/optuna/optuna/releases/tag/v3.0.0. Use suggest_float instead.\n",
            "  'feature_fraction': trial.suggest_uniform('feature_fraction', 0.4, 1.0),\n",
            "<ipython-input-30-936ca12ff7ff>:9: FutureWarning: suggest_uniform has been deprecated in v3.0.0. This feature will be removed in v6.0.0. See https://github.com/optuna/optuna/releases/tag/v3.0.0. Use suggest_float instead.\n",
            "  'bagging_fraction': trial.suggest_uniform('bagging_fraction', 0.4, 1.0),\n",
            "[I 2025-05-29 05:53:29,591] Trial 45 finished with value: 0.7566783850278924 and parameters: {'num_leaves': 34, 'learning_rate': 0.08175295050070787, 'feature_fraction': 0.48009433279294644, 'bagging_fraction': 0.8858509577176786, 'bagging_freq': 1, 'min_child_samples': 6}. Best is trial 45 with value: 0.7566783850278924.\n",
            "<ipython-input-30-936ca12ff7ff>:7: FutureWarning: suggest_loguniform has been deprecated in v3.0.0. This feature will be removed in v6.0.0. See https://github.com/optuna/optuna/releases/tag/v3.0.0. Use suggest_float(..., log=True) instead.\n",
            "  'learning_rate': trial.suggest_loguniform('learning_rate', 0.01, 0.1),\n"
          ]
        },
        {
          "output_type": "stream",
          "name": "stdout",
          "text": [
            "Training until validation scores don't improve for 50 rounds\n",
            "Early stopping, best iteration is:\n",
            "[47]\tvalid_0's l1: 0.761899\n",
            "Training until validation scores don't improve for 50 rounds\n",
            "Early stopping, best iteration is:\n",
            "[45]\tvalid_0's l1: 0.756678\n",
            "Training until validation scores don't improve for 50 rounds\n"
          ]
        },
        {
          "output_type": "stream",
          "name": "stderr",
          "text": [
            "<ipython-input-30-936ca12ff7ff>:8: FutureWarning: suggest_uniform has been deprecated in v3.0.0. This feature will be removed in v6.0.0. See https://github.com/optuna/optuna/releases/tag/v3.0.0. Use suggest_float instead.\n",
            "  'feature_fraction': trial.suggest_uniform('feature_fraction', 0.4, 1.0),\n",
            "<ipython-input-30-936ca12ff7ff>:9: FutureWarning: suggest_uniform has been deprecated in v3.0.0. This feature will be removed in v6.0.0. See https://github.com/optuna/optuna/releases/tag/v3.0.0. Use suggest_float instead.\n",
            "  'bagging_fraction': trial.suggest_uniform('bagging_fraction', 0.4, 1.0),\n",
            "[I 2025-05-29 05:53:29,715] Trial 46 finished with value: 0.7464459280054484 and parameters: {'num_leaves': 34, 'learning_rate': 0.07695824641881824, 'feature_fraction': 0.4577180939242049, 'bagging_fraction': 0.8859573300221906, 'bagging_freq': 1, 'min_child_samples': 5}. Best is trial 46 with value: 0.7464459280054484.\n",
            "<ipython-input-30-936ca12ff7ff>:7: FutureWarning: suggest_loguniform has been deprecated in v3.0.0. This feature will be removed in v6.0.0. See https://github.com/optuna/optuna/releases/tag/v3.0.0. Use suggest_float(..., log=True) instead.\n",
            "  'learning_rate': trial.suggest_loguniform('learning_rate', 0.01, 0.1),\n",
            "<ipython-input-30-936ca12ff7ff>:8: FutureWarning: suggest_uniform has been deprecated in v3.0.0. This feature will be removed in v6.0.0. See https://github.com/optuna/optuna/releases/tag/v3.0.0. Use suggest_float instead.\n",
            "  'feature_fraction': trial.suggest_uniform('feature_fraction', 0.4, 1.0),\n",
            "<ipython-input-30-936ca12ff7ff>:9: FutureWarning: suggest_uniform has been deprecated in v3.0.0. This feature will be removed in v6.0.0. See https://github.com/optuna/optuna/releases/tag/v3.0.0. Use suggest_float instead.\n",
            "  'bagging_fraction': trial.suggest_uniform('bagging_fraction', 0.4, 1.0),\n",
            "[I 2025-05-29 05:53:29,801] Trial 47 finished with value: 0.7406486263192594 and parameters: {'num_leaves': 24, 'learning_rate': 0.08124503162067846, 'feature_fraction': 0.45604342636596934, 'bagging_fraction': 0.8810541922782853, 'bagging_freq': 1, 'min_child_samples': 5}. Best is trial 47 with value: 0.7406486263192594.\n",
            "<ipython-input-30-936ca12ff7ff>:7: FutureWarning: suggest_loguniform has been deprecated in v3.0.0. This feature will be removed in v6.0.0. See https://github.com/optuna/optuna/releases/tag/v3.0.0. Use suggest_float(..., log=True) instead.\n",
            "  'learning_rate': trial.suggest_loguniform('learning_rate', 0.01, 0.1),\n",
            "<ipython-input-30-936ca12ff7ff>:8: FutureWarning: suggest_uniform has been deprecated in v3.0.0. This feature will be removed in v6.0.0. See https://github.com/optuna/optuna/releases/tag/v3.0.0. Use suggest_float instead.\n",
            "  'feature_fraction': trial.suggest_uniform('feature_fraction', 0.4, 1.0),\n",
            "<ipython-input-30-936ca12ff7ff>:9: FutureWarning: suggest_uniform has been deprecated in v3.0.0. This feature will be removed in v6.0.0. See https://github.com/optuna/optuna/releases/tag/v3.0.0. Use suggest_float instead.\n",
            "  'bagging_fraction': trial.suggest_uniform('bagging_fraction', 0.4, 1.0),\n",
            "[I 2025-05-29 05:53:29,891] Trial 48 finished with value: 0.7240166787177589 and parameters: {'num_leaves': 24, 'learning_rate': 0.07971647005127491, 'feature_fraction': 0.4158897157809702, 'bagging_fraction': 0.8711848688400697, 'bagging_freq': 1, 'min_child_samples': 5}. Best is trial 48 with value: 0.7240166787177589.\n"
          ]
        },
        {
          "output_type": "stream",
          "name": "stdout",
          "text": [
            "Early stopping, best iteration is:\n",
            "[105]\tvalid_0's l1: 0.746446\n",
            "Training until validation scores don't improve for 50 rounds\n",
            "Early stopping, best iteration is:\n",
            "[59]\tvalid_0's l1: 0.740649\n",
            "Training until validation scores don't improve for 50 rounds\n",
            "Early stopping, best iteration is:\n",
            "[68]\tvalid_0's l1: 0.724017\n"
          ]
        },
        {
          "output_type": "stream",
          "name": "stderr",
          "text": [
            "<ipython-input-30-936ca12ff7ff>:7: FutureWarning: suggest_loguniform has been deprecated in v3.0.0. This feature will be removed in v6.0.0. See https://github.com/optuna/optuna/releases/tag/v3.0.0. Use suggest_float(..., log=True) instead.\n",
            "  'learning_rate': trial.suggest_loguniform('learning_rate', 0.01, 0.1),\n",
            "<ipython-input-30-936ca12ff7ff>:8: FutureWarning: suggest_uniform has been deprecated in v3.0.0. This feature will be removed in v6.0.0. See https://github.com/optuna/optuna/releases/tag/v3.0.0. Use suggest_float instead.\n",
            "  'feature_fraction': trial.suggest_uniform('feature_fraction', 0.4, 1.0),\n",
            "<ipython-input-30-936ca12ff7ff>:9: FutureWarning: suggest_uniform has been deprecated in v3.0.0. This feature will be removed in v6.0.0. See https://github.com/optuna/optuna/releases/tag/v3.0.0. Use suggest_float instead.\n",
            "  'bagging_fraction': trial.suggest_uniform('bagging_fraction', 0.4, 1.0),\n",
            "[I 2025-05-29 05:53:29,981] Trial 49 finished with value: 0.720397511588172 and parameters: {'num_leaves': 23, 'learning_rate': 0.08374708590038576, 'feature_fraction': 0.4055012246503648, 'bagging_fraction': 0.8817361521484556, 'bagging_freq': 1, 'min_child_samples': 5}. Best is trial 49 with value: 0.720397511588172.\n",
            "<ipython-input-30-936ca12ff7ff>:7: FutureWarning: suggest_loguniform has been deprecated in v3.0.0. This feature will be removed in v6.0.0. See https://github.com/optuna/optuna/releases/tag/v3.0.0. Use suggest_float(..., log=True) instead.\n",
            "  'learning_rate': trial.suggest_loguniform('learning_rate', 0.01, 0.1),\n",
            "<ipython-input-30-936ca12ff7ff>:8: FutureWarning: suggest_uniform has been deprecated in v3.0.0. This feature will be removed in v6.0.0. See https://github.com/optuna/optuna/releases/tag/v3.0.0. Use suggest_float instead.\n",
            "  'feature_fraction': trial.suggest_uniform('feature_fraction', 0.4, 1.0),\n",
            "<ipython-input-30-936ca12ff7ff>:9: FutureWarning: suggest_uniform has been deprecated in v3.0.0. This feature will be removed in v6.0.0. See https://github.com/optuna/optuna/releases/tag/v3.0.0. Use suggest_float instead.\n",
            "  'bagging_fraction': trial.suggest_uniform('bagging_fraction', 0.4, 1.0),\n",
            "[I 2025-05-29 05:53:30,046] Trial 50 finished with value: 0.9357042255548264 and parameters: {'num_leaves': 21, 'learning_rate': 0.09732447369729577, 'feature_fraction': 0.40262511953643354, 'bagging_fraction': 0.46757729061873204, 'bagging_freq': 1, 'min_child_samples': 9}. Best is trial 49 with value: 0.720397511588172.\n",
            "<ipython-input-30-936ca12ff7ff>:7: FutureWarning: suggest_loguniform has been deprecated in v3.0.0. This feature will be removed in v6.0.0. See https://github.com/optuna/optuna/releases/tag/v3.0.0. Use suggest_float(..., log=True) instead.\n",
            "  'learning_rate': trial.suggest_loguniform('learning_rate', 0.01, 0.1),\n",
            "<ipython-input-30-936ca12ff7ff>:8: FutureWarning: suggest_uniform has been deprecated in v3.0.0. This feature will be removed in v6.0.0. See https://github.com/optuna/optuna/releases/tag/v3.0.0. Use suggest_float instead.\n",
            "  'feature_fraction': trial.suggest_uniform('feature_fraction', 0.4, 1.0),\n",
            "<ipython-input-30-936ca12ff7ff>:9: FutureWarning: suggest_uniform has been deprecated in v3.0.0. This feature will be removed in v6.0.0. See https://github.com/optuna/optuna/releases/tag/v3.0.0. Use suggest_float instead.\n",
            "  'bagging_fraction': trial.suggest_uniform('bagging_fraction', 0.4, 1.0),\n",
            "[I 2025-05-29 05:53:30,130] Trial 51 finished with value: 0.7494257652469655 and parameters: {'num_leaves': 26, 'learning_rate': 0.08113602632240827, 'feature_fraction': 0.4504884224193694, 'bagging_fraction': 0.8820829550249034, 'bagging_freq': 1, 'min_child_samples': 5}. Best is trial 49 with value: 0.720397511588172.\n"
          ]
        },
        {
          "output_type": "stream",
          "name": "stdout",
          "text": [
            "Training until validation scores don't improve for 50 rounds\n",
            "Early stopping, best iteration is:\n",
            "[68]\tvalid_0's l1: 0.720398\n",
            "Training until validation scores don't improve for 50 rounds\n",
            "Early stopping, best iteration is:\n",
            "[11]\tvalid_0's l1: 0.935704\n",
            "Training until validation scores don't improve for 50 rounds\n",
            "Early stopping, best iteration is:\n",
            "[47]\tvalid_0's l1: 0.749426\n"
          ]
        },
        {
          "output_type": "stream",
          "name": "stderr",
          "text": [
            "<ipython-input-30-936ca12ff7ff>:7: FutureWarning: suggest_loguniform has been deprecated in v3.0.0. This feature will be removed in v6.0.0. See https://github.com/optuna/optuna/releases/tag/v3.0.0. Use suggest_float(..., log=True) instead.\n",
            "  'learning_rate': trial.suggest_loguniform('learning_rate', 0.01, 0.1),\n",
            "<ipython-input-30-936ca12ff7ff>:8: FutureWarning: suggest_uniform has been deprecated in v3.0.0. This feature will be removed in v6.0.0. See https://github.com/optuna/optuna/releases/tag/v3.0.0. Use suggest_float instead.\n",
            "  'feature_fraction': trial.suggest_uniform('feature_fraction', 0.4, 1.0),\n",
            "<ipython-input-30-936ca12ff7ff>:9: FutureWarning: suggest_uniform has been deprecated in v3.0.0. This feature will be removed in v6.0.0. See https://github.com/optuna/optuna/releases/tag/v3.0.0. Use suggest_float instead.\n",
            "  'bagging_fraction': trial.suggest_uniform('bagging_fraction', 0.4, 1.0),\n",
            "[I 2025-05-29 05:53:30,209] Trial 52 finished with value: 0.9144542890967531 and parameters: {'num_leaves': 26, 'learning_rate': 0.082592181059405, 'feature_fraction': 0.4443556550316392, 'bagging_fraction': 0.8751154836192503, 'bagging_freq': 1, 'min_child_samples': 12}. Best is trial 49 with value: 0.720397511588172.\n",
            "<ipython-input-30-936ca12ff7ff>:7: FutureWarning: suggest_loguniform has been deprecated in v3.0.0. This feature will be removed in v6.0.0. See https://github.com/optuna/optuna/releases/tag/v3.0.0. Use suggest_float(..., log=True) instead.\n",
            "  'learning_rate': trial.suggest_loguniform('learning_rate', 0.01, 0.1),\n",
            "<ipython-input-30-936ca12ff7ff>:8: FutureWarning: suggest_uniform has been deprecated in v3.0.0. This feature will be removed in v6.0.0. See https://github.com/optuna/optuna/releases/tag/v3.0.0. Use suggest_float instead.\n",
            "  'feature_fraction': trial.suggest_uniform('feature_fraction', 0.4, 1.0),\n",
            "<ipython-input-30-936ca12ff7ff>:9: FutureWarning: suggest_uniform has been deprecated in v3.0.0. This feature will be removed in v6.0.0. See https://github.com/optuna/optuna/releases/tag/v3.0.0. Use suggest_float instead.\n",
            "  'bagging_fraction': trial.suggest_uniform('bagging_fraction', 0.4, 1.0),\n",
            "[I 2025-05-29 05:53:30,279] Trial 53 finished with value: 0.943494434311284 and parameters: {'num_leaves': 31, 'learning_rate': 0.08991190783860302, 'feature_fraction': 0.42722828838768434, 'bagging_fraction': 0.8769465600063048, 'bagging_freq': 2, 'min_child_samples': 12}. Best is trial 49 with value: 0.720397511588172.\n",
            "<ipython-input-30-936ca12ff7ff>:7: FutureWarning: suggest_loguniform has been deprecated in v3.0.0. This feature will be removed in v6.0.0. See https://github.com/optuna/optuna/releases/tag/v3.0.0. Use suggest_float(..., log=True) instead.\n",
            "  'learning_rate': trial.suggest_loguniform('learning_rate', 0.01, 0.1),\n",
            "<ipython-input-30-936ca12ff7ff>:8: FutureWarning: suggest_uniform has been deprecated in v3.0.0. This feature will be removed in v6.0.0. See https://github.com/optuna/optuna/releases/tag/v3.0.0. Use suggest_float instead.\n",
            "  'feature_fraction': trial.suggest_uniform('feature_fraction', 0.4, 1.0),\n",
            "<ipython-input-30-936ca12ff7ff>:9: FutureWarning: suggest_uniform has been deprecated in v3.0.0. This feature will be removed in v6.0.0. See https://github.com/optuna/optuna/releases/tag/v3.0.0. Use suggest_float instead.\n",
            "  'bagging_fraction': trial.suggest_uniform('bagging_fraction', 0.4, 1.0),\n",
            "[I 2025-05-29 05:53:30,370] Trial 54 finished with value: 0.7083375607672928 and parameters: {'num_leaves': 25, 'learning_rate': 0.08218010858182015, 'feature_fraction': 0.4069933156957841, 'bagging_fraction': 0.8959611123729979, 'bagging_freq': 2, 'min_child_samples': 5}. Best is trial 54 with value: 0.7083375607672928.\n"
          ]
        },
        {
          "output_type": "stream",
          "name": "stdout",
          "text": [
            "Training until validation scores don't improve for 50 rounds\n",
            "Early stopping, best iteration is:\n",
            "[23]\tvalid_0's l1: 0.914454\n",
            "Training until validation scores don't improve for 50 rounds\n",
            "Early stopping, best iteration is:\n",
            "[17]\tvalid_0's l1: 0.943495\n",
            "Training until validation scores don't improve for 50 rounds\n",
            "Early stopping, best iteration is:\n",
            "[68]\tvalid_0's l1: 0.708338\n"
          ]
        },
        {
          "output_type": "stream",
          "name": "stderr",
          "text": [
            "<ipython-input-30-936ca12ff7ff>:7: FutureWarning: suggest_loguniform has been deprecated in v3.0.0. This feature will be removed in v6.0.0. See https://github.com/optuna/optuna/releases/tag/v3.0.0. Use suggest_float(..., log=True) instead.\n",
            "  'learning_rate': trial.suggest_loguniform('learning_rate', 0.01, 0.1),\n",
            "<ipython-input-30-936ca12ff7ff>:8: FutureWarning: suggest_uniform has been deprecated in v3.0.0. This feature will be removed in v6.0.0. See https://github.com/optuna/optuna/releases/tag/v3.0.0. Use suggest_float instead.\n",
            "  'feature_fraction': trial.suggest_uniform('feature_fraction', 0.4, 1.0),\n",
            "<ipython-input-30-936ca12ff7ff>:9: FutureWarning: suggest_uniform has been deprecated in v3.0.0. This feature will be removed in v6.0.0. See https://github.com/optuna/optuna/releases/tag/v3.0.0. Use suggest_float instead.\n",
            "  'bagging_fraction': trial.suggest_uniform('bagging_fraction', 0.4, 1.0),\n",
            "[I 2025-05-29 05:53:30,497] Trial 55 finished with value: 0.6924384000224034 and parameters: {'num_leaves': 24, 'learning_rate': 0.05373375171493699, 'feature_fraction': 0.4072912611365475, 'bagging_fraction': 0.9999447130776903, 'bagging_freq': 2, 'min_child_samples': 10}. Best is trial 55 with value: 0.6924384000224034.\n",
            "<ipython-input-30-936ca12ff7ff>:7: FutureWarning: suggest_loguniform has been deprecated in v3.0.0. This feature will be removed in v6.0.0. See https://github.com/optuna/optuna/releases/tag/v3.0.0. Use suggest_float(..., log=True) instead.\n",
            "  'learning_rate': trial.suggest_loguniform('learning_rate', 0.01, 0.1),\n",
            "<ipython-input-30-936ca12ff7ff>:8: FutureWarning: suggest_uniform has been deprecated in v3.0.0. This feature will be removed in v6.0.0. See https://github.com/optuna/optuna/releases/tag/v3.0.0. Use suggest_float instead.\n",
            "  'feature_fraction': trial.suggest_uniform('feature_fraction', 0.4, 1.0),\n",
            "<ipython-input-30-936ca12ff7ff>:9: FutureWarning: suggest_uniform has been deprecated in v3.0.0. This feature will be removed in v6.0.0. See https://github.com/optuna/optuna/releases/tag/v3.0.0. Use suggest_float instead.\n",
            "  'bagging_fraction': trial.suggest_uniform('bagging_fraction', 0.4, 1.0),\n",
            "[I 2025-05-29 05:53:30,577] Trial 56 finished with value: 1.0019146341189966 and parameters: {'num_leaves': 24, 'learning_rate': 0.05580975593668733, 'feature_fraction': 0.40157561195082814, 'bagging_fraction': 0.9981880291356919, 'bagging_freq': 2, 'min_child_samples': 13}. Best is trial 55 with value: 0.6924384000224034.\n"
          ]
        },
        {
          "output_type": "stream",
          "name": "stdout",
          "text": [
            "Training until validation scores don't improve for 50 rounds\n",
            "Early stopping, best iteration is:\n",
            "[90]\tvalid_0's l1: 0.692438\n",
            "Training until validation scores don't improve for 50 rounds\n",
            "Early stopping, best iteration is:\n",
            "[52]\tvalid_0's l1: 1.00191\n"
          ]
        },
        {
          "output_type": "stream",
          "name": "stderr",
          "text": [
            "<ipython-input-30-936ca12ff7ff>:7: FutureWarning: suggest_loguniform has been deprecated in v3.0.0. This feature will be removed in v6.0.0. See https://github.com/optuna/optuna/releases/tag/v3.0.0. Use suggest_float(..., log=True) instead.\n",
            "  'learning_rate': trial.suggest_loguniform('learning_rate', 0.01, 0.1),\n",
            "<ipython-input-30-936ca12ff7ff>:8: FutureWarning: suggest_uniform has been deprecated in v3.0.0. This feature will be removed in v6.0.0. See https://github.com/optuna/optuna/releases/tag/v3.0.0. Use suggest_float instead.\n",
            "  'feature_fraction': trial.suggest_uniform('feature_fraction', 0.4, 1.0),\n",
            "<ipython-input-30-936ca12ff7ff>:9: FutureWarning: suggest_uniform has been deprecated in v3.0.0. This feature will be removed in v6.0.0. See https://github.com/optuna/optuna/releases/tag/v3.0.0. Use suggest_float instead.\n",
            "  'bagging_fraction': trial.suggest_uniform('bagging_fraction', 0.4, 1.0),\n",
            "[I 2025-05-29 05:53:30,714] Trial 57 finished with value: 0.786997991425132 and parameters: {'num_leaves': 30, 'learning_rate': 0.09347065655071891, 'feature_fraction': 0.43534705317684513, 'bagging_fraction': 0.8195684630458193, 'bagging_freq': 2, 'min_child_samples': 10}. Best is trial 55 with value: 0.6924384000224034.\n",
            "<ipython-input-30-936ca12ff7ff>:7: FutureWarning: suggest_loguniform has been deprecated in v3.0.0. This feature will be removed in v6.0.0. See https://github.com/optuna/optuna/releases/tag/v3.0.0. Use suggest_float(..., log=True) instead.\n",
            "  'learning_rate': trial.suggest_loguniform('learning_rate', 0.01, 0.1),\n",
            "<ipython-input-30-936ca12ff7ff>:8: FutureWarning: suggest_uniform has been deprecated in v3.0.0. This feature will be removed in v6.0.0. See https://github.com/optuna/optuna/releases/tag/v3.0.0. Use suggest_float instead.\n",
            "  'feature_fraction': trial.suggest_uniform('feature_fraction', 0.4, 1.0),\n",
            "<ipython-input-30-936ca12ff7ff>:9: FutureWarning: suggest_uniform has been deprecated in v3.0.0. This feature will be removed in v6.0.0. See https://github.com/optuna/optuna/releases/tag/v3.0.0. Use suggest_float instead.\n",
            "  'bagging_fraction': trial.suggest_uniform('bagging_fraction', 0.4, 1.0),\n",
            "[I 2025-05-29 05:53:30,819] Trial 58 finished with value: 0.6968078491372403 and parameters: {'num_leaves': 22, 'learning_rate': 0.04895257139159425, 'feature_fraction': 0.4148608881744797, 'bagging_fraction': 0.9673368553854839, 'bagging_freq': 3, 'min_child_samples': 9}. Best is trial 55 with value: 0.6924384000224034.\n"
          ]
        },
        {
          "output_type": "stream",
          "name": "stdout",
          "text": [
            "Training until validation scores don't improve for 50 rounds\n",
            "Early stopping, best iteration is:\n",
            "[120]\tvalid_0's l1: 0.786998\n",
            "Training until validation scores don't improve for 50 rounds\n",
            "Early stopping, best iteration is:\n",
            "[108]\tvalid_0's l1: 0.696808\n"
          ]
        },
        {
          "output_type": "stream",
          "name": "stderr",
          "text": [
            "<ipython-input-30-936ca12ff7ff>:7: FutureWarning: suggest_loguniform has been deprecated in v3.0.0. This feature will be removed in v6.0.0. See https://github.com/optuna/optuna/releases/tag/v3.0.0. Use suggest_float(..., log=True) instead.\n",
            "  'learning_rate': trial.suggest_loguniform('learning_rate', 0.01, 0.1),\n",
            "<ipython-input-30-936ca12ff7ff>:8: FutureWarning: suggest_uniform has been deprecated in v3.0.0. This feature will be removed in v6.0.0. See https://github.com/optuna/optuna/releases/tag/v3.0.0. Use suggest_float instead.\n",
            "  'feature_fraction': trial.suggest_uniform('feature_fraction', 0.4, 1.0),\n",
            "<ipython-input-30-936ca12ff7ff>:9: FutureWarning: suggest_uniform has been deprecated in v3.0.0. This feature will be removed in v6.0.0. See https://github.com/optuna/optuna/releases/tag/v3.0.0. Use suggest_float instead.\n",
            "  'bagging_fraction': trial.suggest_uniform('bagging_fraction', 0.4, 1.0),\n",
            "[I 2025-05-29 05:53:30,895] Trial 59 finished with value: 0.9470331572233938 and parameters: {'num_leaves': 23, 'learning_rate': 0.048617044698853105, 'feature_fraction': 0.41566852686093697, 'bagging_fraction': 0.9707613267777013, 'bagging_freq': 3, 'min_child_samples': 22}. Best is trial 55 with value: 0.6924384000224034.\n",
            "<ipython-input-30-936ca12ff7ff>:7: FutureWarning: suggest_loguniform has been deprecated in v3.0.0. This feature will be removed in v6.0.0. See https://github.com/optuna/optuna/releases/tag/v3.0.0. Use suggest_float(..., log=True) instead.\n",
            "  'learning_rate': trial.suggest_loguniform('learning_rate', 0.01, 0.1),\n",
            "<ipython-input-30-936ca12ff7ff>:8: FutureWarning: suggest_uniform has been deprecated in v3.0.0. This feature will be removed in v6.0.0. See https://github.com/optuna/optuna/releases/tag/v3.0.0. Use suggest_float instead.\n",
            "  'feature_fraction': trial.suggest_uniform('feature_fraction', 0.4, 1.0),\n",
            "<ipython-input-30-936ca12ff7ff>:9: FutureWarning: suggest_uniform has been deprecated in v3.0.0. This feature will be removed in v6.0.0. See https://github.com/optuna/optuna/releases/tag/v3.0.0. Use suggest_float instead.\n",
            "  'bagging_fraction': trial.suggest_uniform('bagging_fraction', 0.4, 1.0),\n"
          ]
        },
        {
          "output_type": "stream",
          "name": "stdout",
          "text": [
            "Training until validation scores don't improve for 50 rounds\n",
            "Early stopping, best iteration is:\n",
            "[45]\tvalid_0's l1: 0.947033\n",
            "Training until validation scores don't improve for 50 rounds\n",
            "Early stopping, best iteration is:\n",
            "[184]\tvalid_0's l1: 0.838002\n"
          ]
        },
        {
          "output_type": "stream",
          "name": "stderr",
          "text": [
            "[I 2025-05-29 05:53:31,074] Trial 60 finished with value: 0.8380024139341063 and parameters: {'num_leaves': 29, 'learning_rate': 0.053258757412300003, 'feature_fraction': 0.46521403869568273, 'bagging_fraction': 0.9622551674756119, 'bagging_freq': 2, 'min_child_samples': 9}. Best is trial 55 with value: 0.6924384000224034.\n",
            "<ipython-input-30-936ca12ff7ff>:7: FutureWarning: suggest_loguniform has been deprecated in v3.0.0. This feature will be removed in v6.0.0. See https://github.com/optuna/optuna/releases/tag/v3.0.0. Use suggest_float(..., log=True) instead.\n",
            "  'learning_rate': trial.suggest_loguniform('learning_rate', 0.01, 0.1),\n",
            "<ipython-input-30-936ca12ff7ff>:8: FutureWarning: suggest_uniform has been deprecated in v3.0.0. This feature will be removed in v6.0.0. See https://github.com/optuna/optuna/releases/tag/v3.0.0. Use suggest_float instead.\n",
            "  'feature_fraction': trial.suggest_uniform('feature_fraction', 0.4, 1.0),\n",
            "<ipython-input-30-936ca12ff7ff>:9: FutureWarning: suggest_uniform has been deprecated in v3.0.0. This feature will be removed in v6.0.0. See https://github.com/optuna/optuna/releases/tag/v3.0.0. Use suggest_float instead.\n",
            "  'bagging_fraction': trial.suggest_uniform('bagging_fraction', 0.4, 1.0),\n",
            "[I 2025-05-29 05:53:31,196] Trial 61 finished with value: 0.8400304919219623 and parameters: {'num_leaves': 21, 'learning_rate': 0.07631909008134895, 'feature_fraction': 0.4595044067913217, 'bagging_fraction': 0.9076068243057974, 'bagging_freq': 1, 'min_child_samples': 8}. Best is trial 55 with value: 0.6924384000224034.\n",
            "<ipython-input-30-936ca12ff7ff>:7: FutureWarning: suggest_loguniform has been deprecated in v3.0.0. This feature will be removed in v6.0.0. See https://github.com/optuna/optuna/releases/tag/v3.0.0. Use suggest_float(..., log=True) instead.\n",
            "  'learning_rate': trial.suggest_loguniform('learning_rate', 0.01, 0.1),\n",
            "<ipython-input-30-936ca12ff7ff>:8: FutureWarning: suggest_uniform has been deprecated in v3.0.0. This feature will be removed in v6.0.0. See https://github.com/optuna/optuna/releases/tag/v3.0.0. Use suggest_float instead.\n",
            "  'feature_fraction': trial.suggest_uniform('feature_fraction', 0.4, 1.0),\n",
            "<ipython-input-30-936ca12ff7ff>:9: FutureWarning: suggest_uniform has been deprecated in v3.0.0. This feature will be removed in v6.0.0. See https://github.com/optuna/optuna/releases/tag/v3.0.0. Use suggest_float instead.\n",
            "  'bagging_fraction': trial.suggest_uniform('bagging_fraction', 0.4, 1.0),\n"
          ]
        },
        {
          "output_type": "stream",
          "name": "stdout",
          "text": [
            "Training until validation scores don't improve for 50 rounds\n",
            "Early stopping, best iteration is:\n",
            "[114]\tvalid_0's l1: 0.84003\n",
            "Training until validation scores don't improve for 50 rounds\n"
          ]
        },
        {
          "output_type": "stream",
          "name": "stderr",
          "text": [
            "[I 2025-05-29 05:53:31,569] Trial 62 finished with value: 0.8435551774260502 and parameters: {'num_leaves': 33, 'learning_rate': 0.08884350621127073, 'feature_fraction': 0.4224167085088054, 'bagging_fraction': 0.9291152800983188, 'bagging_freq': 2, 'min_child_samples': 14}. Best is trial 55 with value: 0.6924384000224034.\n"
          ]
        },
        {
          "output_type": "stream",
          "name": "stdout",
          "text": [
            "Early stopping, best iteration is:\n",
            "[460]\tvalid_0's l1: 0.843555\n",
            "Training until validation scores don't improve for 50 rounds\n"
          ]
        },
        {
          "output_type": "stream",
          "name": "stderr",
          "text": [
            "<ipython-input-30-936ca12ff7ff>:7: FutureWarning: suggest_loguniform has been deprecated in v3.0.0. This feature will be removed in v6.0.0. See https://github.com/optuna/optuna/releases/tag/v3.0.0. Use suggest_float(..., log=True) instead.\n",
            "  'learning_rate': trial.suggest_loguniform('learning_rate', 0.01, 0.1),\n",
            "<ipython-input-30-936ca12ff7ff>:8: FutureWarning: suggest_uniform has been deprecated in v3.0.0. This feature will be removed in v6.0.0. See https://github.com/optuna/optuna/releases/tag/v3.0.0. Use suggest_float instead.\n",
            "  'feature_fraction': trial.suggest_uniform('feature_fraction', 0.4, 1.0),\n",
            "<ipython-input-30-936ca12ff7ff>:9: FutureWarning: suggest_uniform has been deprecated in v3.0.0. This feature will be removed in v6.0.0. See https://github.com/optuna/optuna/releases/tag/v3.0.0. Use suggest_float instead.\n",
            "  'bagging_fraction': trial.suggest_uniform('bagging_fraction', 0.4, 1.0),\n",
            "[I 2025-05-29 05:53:31,709] Trial 63 finished with value: 0.9529816871612927 and parameters: {'num_leaves': 24, 'learning_rate': 0.06231389365891931, 'feature_fraction': 0.44007284836140353, 'bagging_fraction': 0.8663179309931958, 'bagging_freq': 1, 'min_child_samples': 5}. Best is trial 55 with value: 0.6924384000224034.\n",
            "<ipython-input-30-936ca12ff7ff>:7: FutureWarning: suggest_loguniform has been deprecated in v3.0.0. This feature will be removed in v6.0.0. See https://github.com/optuna/optuna/releases/tag/v3.0.0. Use suggest_float(..., log=True) instead.\n",
            "  'learning_rate': trial.suggest_loguniform('learning_rate', 0.01, 0.1),\n",
            "<ipython-input-30-936ca12ff7ff>:8: FutureWarning: suggest_uniform has been deprecated in v3.0.0. This feature will be removed in v6.0.0. See https://github.com/optuna/optuna/releases/tag/v3.0.0. Use suggest_float instead.\n",
            "  'feature_fraction': trial.suggest_uniform('feature_fraction', 0.4, 1.0),\n",
            "<ipython-input-30-936ca12ff7ff>:9: FutureWarning: suggest_uniform has been deprecated in v3.0.0. This feature will be removed in v6.0.0. See https://github.com/optuna/optuna/releases/tag/v3.0.0. Use suggest_float instead.\n",
            "  'bagging_fraction': trial.suggest_uniform('bagging_fraction', 0.4, 1.0),\n",
            "[I 2025-05-29 05:53:31,785] Trial 64 finished with value: 1.405452657990411 and parameters: {'num_leaves': 28, 'learning_rate': 0.04521900499893152, 'feature_fraction': 0.4119485300577148, 'bagging_fraction': 0.898059994236672, 'bagging_freq': 3, 'min_child_samples': 20}. Best is trial 55 with value: 0.6924384000224034.\n"
          ]
        },
        {
          "output_type": "stream",
          "name": "stdout",
          "text": [
            "Early stopping, best iteration is:\n",
            "[143]\tvalid_0's l1: 0.952982\n",
            "Training until validation scores don't improve for 50 rounds\n",
            "Early stopping, best iteration is:\n",
            "[20]\tvalid_0's l1: 1.40545\n",
            "Training until validation scores don't improve for 50 rounds\n"
          ]
        },
        {
          "output_type": "stream",
          "name": "stderr",
          "text": [
            "<ipython-input-30-936ca12ff7ff>:7: FutureWarning: suggest_loguniform has been deprecated in v3.0.0. This feature will be removed in v6.0.0. See https://github.com/optuna/optuna/releases/tag/v3.0.0. Use suggest_float(..., log=True) instead.\n",
            "  'learning_rate': trial.suggest_loguniform('learning_rate', 0.01, 0.1),\n",
            "<ipython-input-30-936ca12ff7ff>:8: FutureWarning: suggest_uniform has been deprecated in v3.0.0. This feature will be removed in v6.0.0. See https://github.com/optuna/optuna/releases/tag/v3.0.0. Use suggest_float instead.\n",
            "  'feature_fraction': trial.suggest_uniform('feature_fraction', 0.4, 1.0),\n",
            "<ipython-input-30-936ca12ff7ff>:9: FutureWarning: suggest_uniform has been deprecated in v3.0.0. This feature will be removed in v6.0.0. See https://github.com/optuna/optuna/releases/tag/v3.0.0. Use suggest_float instead.\n",
            "  'bagging_fraction': trial.suggest_uniform('bagging_fraction', 0.4, 1.0),\n",
            "[I 2025-05-29 05:53:31,928] Trial 65 finished with value: 0.7965001296194312 and parameters: {'num_leaves': 20, 'learning_rate': 0.09985414770706752, 'feature_fraction': 0.5279029950566375, 'bagging_fraction': 0.8344242010024066, 'bagging_freq': 2, 'min_child_samples': 11}. Best is trial 55 with value: 0.6924384000224034.\n",
            "<ipython-input-30-936ca12ff7ff>:7: FutureWarning: suggest_loguniform has been deprecated in v3.0.0. This feature will be removed in v6.0.0. See https://github.com/optuna/optuna/releases/tag/v3.0.0. Use suggest_float(..., log=True) instead.\n",
            "  'learning_rate': trial.suggest_loguniform('learning_rate', 0.01, 0.1),\n",
            "<ipython-input-30-936ca12ff7ff>:8: FutureWarning: suggest_uniform has been deprecated in v3.0.0. This feature will be removed in v6.0.0. See https://github.com/optuna/optuna/releases/tag/v3.0.0. Use suggest_float instead.\n",
            "  'feature_fraction': trial.suggest_uniform('feature_fraction', 0.4, 1.0),\n",
            "<ipython-input-30-936ca12ff7ff>:9: FutureWarning: suggest_uniform has been deprecated in v3.0.0. This feature will be removed in v6.0.0. See https://github.com/optuna/optuna/releases/tag/v3.0.0. Use suggest_float instead.\n",
            "  'bagging_fraction': trial.suggest_uniform('bagging_fraction', 0.4, 1.0),\n",
            "[I 2025-05-29 05:53:32,055] Trial 66 finished with value: 0.8684680379028337 and parameters: {'num_leaves': 33, 'learning_rate': 0.07436266203615548, 'feature_fraction': 0.4617173594668084, 'bagging_fraction': 0.9648625307431606, 'bagging_freq': 1, 'min_child_samples': 9}. Best is trial 55 with value: 0.6924384000224034.\n"
          ]
        },
        {
          "output_type": "stream",
          "name": "stdout",
          "text": [
            "Early stopping, best iteration is:\n",
            "[143]\tvalid_0's l1: 0.7965\n",
            "Training until validation scores don't improve for 50 rounds\n",
            "Early stopping, best iteration is:\n",
            "[105]\tvalid_0's l1: 0.868468\n",
            "Training until validation scores don't improve for 50 rounds\n"
          ]
        },
        {
          "output_type": "stream",
          "name": "stderr",
          "text": [
            "<ipython-input-30-936ca12ff7ff>:7: FutureWarning: suggest_loguniform has been deprecated in v3.0.0. This feature will be removed in v6.0.0. See https://github.com/optuna/optuna/releases/tag/v3.0.0. Use suggest_float(..., log=True) instead.\n",
            "  'learning_rate': trial.suggest_loguniform('learning_rate', 0.01, 0.1),\n",
            "<ipython-input-30-936ca12ff7ff>:8: FutureWarning: suggest_uniform has been deprecated in v3.0.0. This feature will be removed in v6.0.0. See https://github.com/optuna/optuna/releases/tag/v3.0.0. Use suggest_float instead.\n",
            "  'feature_fraction': trial.suggest_uniform('feature_fraction', 0.4, 1.0),\n",
            "<ipython-input-30-936ca12ff7ff>:9: FutureWarning: suggest_uniform has been deprecated in v3.0.0. This feature will be removed in v6.0.0. See https://github.com/optuna/optuna/releases/tag/v3.0.0. Use suggest_float instead.\n",
            "  'bagging_fraction': trial.suggest_uniform('bagging_fraction', 0.4, 1.0),\n",
            "[I 2025-05-29 05:53:32,126] Trial 67 finished with value: 1.6994183194951376 and parameters: {'num_leaves': 26, 'learning_rate': 0.08404497173548148, 'feature_fraction': 0.5735654354592858, 'bagging_fraction': 0.8590074794903426, 'bagging_freq': 3, 'min_child_samples': 35}. Best is trial 55 with value: 0.6924384000224034.\n",
            "<ipython-input-30-936ca12ff7ff>:7: FutureWarning: suggest_loguniform has been deprecated in v3.0.0. This feature will be removed in v6.0.0. See https://github.com/optuna/optuna/releases/tag/v3.0.0. Use suggest_float(..., log=True) instead.\n",
            "  'learning_rate': trial.suggest_loguniform('learning_rate', 0.01, 0.1),\n",
            "<ipython-input-30-936ca12ff7ff>:8: FutureWarning: suggest_uniform has been deprecated in v3.0.0. This feature will be removed in v6.0.0. See https://github.com/optuna/optuna/releases/tag/v3.0.0. Use suggest_float instead.\n",
            "  'feature_fraction': trial.suggest_uniform('feature_fraction', 0.4, 1.0),\n",
            "<ipython-input-30-936ca12ff7ff>:9: FutureWarning: suggest_uniform has been deprecated in v3.0.0. This feature will be removed in v6.0.0. See https://github.com/optuna/optuna/releases/tag/v3.0.0. Use suggest_float instead.\n",
            "  'bagging_fraction': trial.suggest_uniform('bagging_fraction', 0.4, 1.0),\n",
            "[I 2025-05-29 05:53:32,209] Trial 68 finished with value: 1.6083017300491165 and parameters: {'num_leaves': 23, 'learning_rate': 0.056982530500967306, 'feature_fraction': 0.43205338998556364, 'bagging_fraction': 0.7487189782398451, 'bagging_freq': 1, 'min_child_samples': 26}. Best is trial 55 with value: 0.6924384000224034.\n",
            "<ipython-input-30-936ca12ff7ff>:7: FutureWarning: suggest_loguniform has been deprecated in v3.0.0. This feature will be removed in v6.0.0. See https://github.com/optuna/optuna/releases/tag/v3.0.0. Use suggest_float(..., log=True) instead.\n",
            "  'learning_rate': trial.suggest_loguniform('learning_rate', 0.01, 0.1),\n",
            "<ipython-input-30-936ca12ff7ff>:8: FutureWarning: suggest_uniform has been deprecated in v3.0.0. This feature will be removed in v6.0.0. See https://github.com/optuna/optuna/releases/tag/v3.0.0. Use suggest_float instead.\n",
            "  'feature_fraction': trial.suggest_uniform('feature_fraction', 0.4, 1.0),\n",
            "<ipython-input-30-936ca12ff7ff>:9: FutureWarning: suggest_uniform has been deprecated in v3.0.0. This feature will be removed in v6.0.0. See https://github.com/optuna/optuna/releases/tag/v3.0.0. Use suggest_float instead.\n",
            "  'bagging_fraction': trial.suggest_uniform('bagging_fraction', 0.4, 1.0),\n"
          ]
        },
        {
          "output_type": "stream",
          "name": "stdout",
          "text": [
            "Early stopping, best iteration is:\n",
            "[3]\tvalid_0's l1: 1.69942\n",
            "Training until validation scores don't improve for 50 rounds\n",
            "Early stopping, best iteration is:\n",
            "[39]\tvalid_0's l1: 1.6083\n",
            "Training until validation scores don't improve for 50 rounds\n"
          ]
        },
        {
          "output_type": "stream",
          "name": "stderr",
          "text": [
            "[I 2025-05-29 05:53:32,821] Trial 69 finished with value: 0.8475614917254564 and parameters: {'num_leaves': 50, 'learning_rate': 0.04127097642085724, 'feature_fraction': 0.4007409780118148, 'bagging_fraction': 0.9984098046726725, 'bagging_freq': 2, 'min_child_samples': 13}. Best is trial 55 with value: 0.6924384000224034.\n"
          ]
        },
        {
          "output_type": "stream",
          "name": "stdout",
          "text": [
            "Early stopping, best iteration is:\n",
            "[735]\tvalid_0's l1: 0.847561\n"
          ]
        },
        {
          "output_type": "stream",
          "name": "stderr",
          "text": [
            "<ipython-input-30-936ca12ff7ff>:7: FutureWarning: suggest_loguniform has been deprecated in v3.0.0. This feature will be removed in v6.0.0. See https://github.com/optuna/optuna/releases/tag/v3.0.0. Use suggest_float(..., log=True) instead.\n",
            "  'learning_rate': trial.suggest_loguniform('learning_rate', 0.01, 0.1),\n",
            "<ipython-input-30-936ca12ff7ff>:8: FutureWarning: suggest_uniform has been deprecated in v3.0.0. This feature will be removed in v6.0.0. See https://github.com/optuna/optuna/releases/tag/v3.0.0. Use suggest_float instead.\n",
            "  'feature_fraction': trial.suggest_uniform('feature_fraction', 0.4, 1.0),\n",
            "<ipython-input-30-936ca12ff7ff>:9: FutureWarning: suggest_uniform has been deprecated in v3.0.0. This feature will be removed in v6.0.0. See https://github.com/optuna/optuna/releases/tag/v3.0.0. Use suggest_float instead.\n",
            "  'bagging_fraction': trial.suggest_uniform('bagging_fraction', 0.4, 1.0),\n",
            "[I 2025-05-29 05:53:32,965] Trial 70 finished with value: 0.8193279445478335 and parameters: {'num_leaves': 28, 'learning_rate': 0.08825891512638216, 'feature_fraction': 0.4561390615351488, 'bagging_fraction': 0.802906499670006, 'bagging_freq': 1, 'min_child_samples': 8}. Best is trial 55 with value: 0.6924384000224034.\n",
            "<ipython-input-30-936ca12ff7ff>:7: FutureWarning: suggest_loguniform has been deprecated in v3.0.0. This feature will be removed in v6.0.0. See https://github.com/optuna/optuna/releases/tag/v3.0.0. Use suggest_float(..., log=True) instead.\n",
            "  'learning_rate': trial.suggest_loguniform('learning_rate', 0.01, 0.1),\n",
            "<ipython-input-30-936ca12ff7ff>:8: FutureWarning: suggest_uniform has been deprecated in v3.0.0. This feature will be removed in v6.0.0. See https://github.com/optuna/optuna/releases/tag/v3.0.0. Use suggest_float instead.\n",
            "  'feature_fraction': trial.suggest_uniform('feature_fraction', 0.4, 1.0),\n",
            "<ipython-input-30-936ca12ff7ff>:9: FutureWarning: suggest_uniform has been deprecated in v3.0.0. This feature will be removed in v6.0.0. See https://github.com/optuna/optuna/releases/tag/v3.0.0. Use suggest_float instead.\n",
            "  'bagging_fraction': trial.suggest_uniform('bagging_fraction', 0.4, 1.0),\n"
          ]
        },
        {
          "output_type": "stream",
          "name": "stdout",
          "text": [
            "Training until validation scores don't improve for 50 rounds\n",
            "Early stopping, best iteration is:\n",
            "[126]\tvalid_0's l1: 0.819328\n",
            "Training until validation scores don't improve for 50 rounds\n",
            "Early stopping, best iteration is:\n",
            "[117]\tvalid_0's l1: 0.973827\n"
          ]
        },
        {
          "output_type": "stream",
          "name": "stderr",
          "text": [
            "[I 2025-05-29 05:53:33,103] Trial 71 finished with value: 0.9738270253045936 and parameters: {'num_leaves': 26, 'learning_rate': 0.07950045086203184, 'feature_fraction': 0.4487658603093061, 'bagging_fraction': 0.897217249667248, 'bagging_freq': 1, 'min_child_samples': 5}. Best is trial 55 with value: 0.6924384000224034.\n",
            "<ipython-input-30-936ca12ff7ff>:7: FutureWarning: suggest_loguniform has been deprecated in v3.0.0. This feature will be removed in v6.0.0. See https://github.com/optuna/optuna/releases/tag/v3.0.0. Use suggest_float(..., log=True) instead.\n",
            "  'learning_rate': trial.suggest_loguniform('learning_rate', 0.01, 0.1),\n",
            "<ipython-input-30-936ca12ff7ff>:8: FutureWarning: suggest_uniform has been deprecated in v3.0.0. This feature will be removed in v6.0.0. See https://github.com/optuna/optuna/releases/tag/v3.0.0. Use suggest_float instead.\n",
            "  'feature_fraction': trial.suggest_uniform('feature_fraction', 0.4, 1.0),\n",
            "<ipython-input-30-936ca12ff7ff>:9: FutureWarning: suggest_uniform has been deprecated in v3.0.0. This feature will be removed in v6.0.0. See https://github.com/optuna/optuna/releases/tag/v3.0.0. Use suggest_float instead.\n",
            "  'bagging_fraction': trial.suggest_uniform('bagging_fraction', 0.4, 1.0),\n",
            "[I 2025-05-29 05:53:33,289] Trial 72 finished with value: 0.9325199263366272 and parameters: {'num_leaves': 23, 'learning_rate': 0.07232332879361844, 'feature_fraction': 0.4221877664256722, 'bagging_fraction': 0.9328174418324462, 'bagging_freq': 1, 'min_child_samples': 6}. Best is trial 55 with value: 0.6924384000224034.\n",
            "<ipython-input-30-936ca12ff7ff>:7: FutureWarning: suggest_loguniform has been deprecated in v3.0.0. This feature will be removed in v6.0.0. See https://github.com/optuna/optuna/releases/tag/v3.0.0. Use suggest_float(..., log=True) instead.\n",
            "  'learning_rate': trial.suggest_loguniform('learning_rate', 0.01, 0.1),\n",
            "<ipython-input-30-936ca12ff7ff>:8: FutureWarning: suggest_uniform has been deprecated in v3.0.0. This feature will be removed in v6.0.0. See https://github.com/optuna/optuna/releases/tag/v3.0.0. Use suggest_float instead.\n",
            "  'feature_fraction': trial.suggest_uniform('feature_fraction', 0.4, 1.0),\n",
            "<ipython-input-30-936ca12ff7ff>:9: FutureWarning: suggest_uniform has been deprecated in v3.0.0. This feature will be removed in v6.0.0. See https://github.com/optuna/optuna/releases/tag/v3.0.0. Use suggest_float instead.\n",
            "  'bagging_fraction': trial.suggest_uniform('bagging_fraction', 0.4, 1.0),\n"
          ]
        },
        {
          "output_type": "stream",
          "name": "stdout",
          "text": [
            "Training until validation scores don't improve for 50 rounds\n",
            "Early stopping, best iteration is:\n",
            "[248]\tvalid_0's l1: 0.93252\n",
            "Training until validation scores don't improve for 50 rounds\n"
          ]
        },
        {
          "output_type": "stream",
          "name": "stderr",
          "text": [
            "[I 2025-05-29 05:53:33,581] Trial 73 finished with value: 0.8117546574321439 and parameters: {'num_leaves': 31, 'learning_rate': 0.0936471925751325, 'feature_fraction': 0.44016197822792574, 'bagging_fraction': 0.8679187983901498, 'bagging_freq': 2, 'min_child_samples': 11}. Best is trial 55 with value: 0.6924384000224034.\n"
          ]
        },
        {
          "output_type": "stream",
          "name": "stdout",
          "text": [
            "Early stopping, best iteration is:\n",
            "[339]\tvalid_0's l1: 0.811754\n",
            "Training until validation scores don't improve for 50 rounds\n"
          ]
        },
        {
          "output_type": "stream",
          "name": "stderr",
          "text": [
            "<ipython-input-30-936ca12ff7ff>:7: FutureWarning: suggest_loguniform has been deprecated in v3.0.0. This feature will be removed in v6.0.0. See https://github.com/optuna/optuna/releases/tag/v3.0.0. Use suggest_float(..., log=True) instead.\n",
            "  'learning_rate': trial.suggest_loguniform('learning_rate', 0.01, 0.1),\n",
            "<ipython-input-30-936ca12ff7ff>:8: FutureWarning: suggest_uniform has been deprecated in v3.0.0. This feature will be removed in v6.0.0. See https://github.com/optuna/optuna/releases/tag/v3.0.0. Use suggest_float instead.\n",
            "  'feature_fraction': trial.suggest_uniform('feature_fraction', 0.4, 1.0),\n",
            "<ipython-input-30-936ca12ff7ff>:9: FutureWarning: suggest_uniform has been deprecated in v3.0.0. This feature will be removed in v6.0.0. See https://github.com/optuna/optuna/releases/tag/v3.0.0. Use suggest_float instead.\n",
            "  'bagging_fraction': trial.suggest_uniform('bagging_fraction', 0.4, 1.0),\n",
            "[I 2025-05-29 05:53:33,835] Trial 74 finished with value: 0.7803276588499324 and parameters: {'num_leaves': 26, 'learning_rate': 0.06600299721145463, 'feature_fraction': 0.5147590477243661, 'bagging_fraction': 0.8262528274406303, 'bagging_freq': 1, 'min_child_samples': 14}. Best is trial 55 with value: 0.6924384000224034.\n",
            "<ipython-input-30-936ca12ff7ff>:7: FutureWarning: suggest_loguniform has been deprecated in v3.0.0. This feature will be removed in v6.0.0. See https://github.com/optuna/optuna/releases/tag/v3.0.0. Use suggest_float(..., log=True) instead.\n",
            "  'learning_rate': trial.suggest_loguniform('learning_rate', 0.01, 0.1),\n",
            "<ipython-input-30-936ca12ff7ff>:8: FutureWarning: suggest_uniform has been deprecated in v3.0.0. This feature will be removed in v6.0.0. See https://github.com/optuna/optuna/releases/tag/v3.0.0. Use suggest_float instead.\n",
            "  'feature_fraction': trial.suggest_uniform('feature_fraction', 0.4, 1.0),\n",
            "<ipython-input-30-936ca12ff7ff>:9: FutureWarning: suggest_uniform has been deprecated in v3.0.0. This feature will be removed in v6.0.0. See https://github.com/optuna/optuna/releases/tag/v3.0.0. Use suggest_float instead.\n",
            "  'bagging_fraction': trial.suggest_uniform('bagging_fraction', 0.4, 1.0),\n",
            "[I 2025-05-29 05:53:33,912] Trial 75 finished with value: 1.4726990529127488 and parameters: {'num_leaves': 34, 'learning_rate': 0.08009366608990597, 'feature_fraction': 0.4699629214124909, 'bagging_fraction': 0.9766857286261441, 'bagging_freq': 1, 'min_child_samples': 20}. Best is trial 55 with value: 0.6924384000224034.\n"
          ]
        },
        {
          "output_type": "stream",
          "name": "stdout",
          "text": [
            "Early stopping, best iteration is:\n",
            "[296]\tvalid_0's l1: 0.780327\n",
            "Training until validation scores don't improve for 50 rounds\n",
            "Early stopping, best iteration is:\n",
            "[14]\tvalid_0's l1: 1.4727\n",
            "Training until validation scores don't improve for 50 rounds\n"
          ]
        },
        {
          "output_type": "stream",
          "name": "stderr",
          "text": [
            "<ipython-input-30-936ca12ff7ff>:7: FutureWarning: suggest_loguniform has been deprecated in v3.0.0. This feature will be removed in v6.0.0. See https://github.com/optuna/optuna/releases/tag/v3.0.0. Use suggest_float(..., log=True) instead.\n",
            "  'learning_rate': trial.suggest_loguniform('learning_rate', 0.01, 0.1),\n",
            "<ipython-input-30-936ca12ff7ff>:8: FutureWarning: suggest_uniform has been deprecated in v3.0.0. This feature will be removed in v6.0.0. See https://github.com/optuna/optuna/releases/tag/v3.0.0. Use suggest_float instead.\n",
            "  'feature_fraction': trial.suggest_uniform('feature_fraction', 0.4, 1.0),\n",
            "<ipython-input-30-936ca12ff7ff>:9: FutureWarning: suggest_uniform has been deprecated in v3.0.0. This feature will be removed in v6.0.0. See https://github.com/optuna/optuna/releases/tag/v3.0.0. Use suggest_float instead.\n",
            "  'bagging_fraction': trial.suggest_uniform('bagging_fraction', 0.4, 1.0),\n",
            "[I 2025-05-29 05:53:34,150] Trial 76 finished with value: 0.9263440084270869 and parameters: {'num_leaves': 20, 'learning_rate': 0.0856641479414923, 'feature_fraction': 0.4169923284836634, 'bagging_fraction': 0.9518647245940381, 'bagging_freq': 2, 'min_child_samples': 5}. Best is trial 55 with value: 0.6924384000224034.\n"
          ]
        },
        {
          "output_type": "stream",
          "name": "stdout",
          "text": [
            "Early stopping, best iteration is:\n",
            "[366]\tvalid_0's l1: 0.926344\n",
            "Training until validation scores don't improve for 50 rounds\n"
          ]
        },
        {
          "output_type": "stream",
          "name": "stderr",
          "text": [
            "<ipython-input-30-936ca12ff7ff>:7: FutureWarning: suggest_loguniform has been deprecated in v3.0.0. This feature will be removed in v6.0.0. See https://github.com/optuna/optuna/releases/tag/v3.0.0. Use suggest_float(..., log=True) instead.\n",
            "  'learning_rate': trial.suggest_loguniform('learning_rate', 0.01, 0.1),\n",
            "<ipython-input-30-936ca12ff7ff>:8: FutureWarning: suggest_uniform has been deprecated in v3.0.0. This feature will be removed in v6.0.0. See https://github.com/optuna/optuna/releases/tag/v3.0.0. Use suggest_float instead.\n",
            "  'feature_fraction': trial.suggest_uniform('feature_fraction', 0.4, 1.0),\n",
            "<ipython-input-30-936ca12ff7ff>:9: FutureWarning: suggest_uniform has been deprecated in v3.0.0. This feature will be removed in v6.0.0. See https://github.com/optuna/optuna/releases/tag/v3.0.0. Use suggest_float instead.\n",
            "  'bagging_fraction': trial.suggest_uniform('bagging_fraction', 0.4, 1.0),\n",
            "[I 2025-05-29 05:53:34,369] Trial 77 finished with value: 0.8291877838537971 and parameters: {'num_leaves': 24, 'learning_rate': 0.0500591949228874, 'feature_fraction': 0.4498937524294031, 'bagging_fraction': 0.5899541391848089, 'bagging_freq': 3, 'min_child_samples': 8}. Best is trial 55 with value: 0.6924384000224034.\n",
            "<ipython-input-30-936ca12ff7ff>:7: FutureWarning: suggest_loguniform has been deprecated in v3.0.0. This feature will be removed in v6.0.0. See https://github.com/optuna/optuna/releases/tag/v3.0.0. Use suggest_float(..., log=True) instead.\n",
            "  'learning_rate': trial.suggest_loguniform('learning_rate', 0.01, 0.1),\n",
            "<ipython-input-30-936ca12ff7ff>:8: FutureWarning: suggest_uniform has been deprecated in v3.0.0. This feature will be removed in v6.0.0. See https://github.com/optuna/optuna/releases/tag/v3.0.0. Use suggest_float instead.\n",
            "  'feature_fraction': trial.suggest_uniform('feature_fraction', 0.4, 1.0),\n",
            "<ipython-input-30-936ca12ff7ff>:9: FutureWarning: suggest_uniform has been deprecated in v3.0.0. This feature will be removed in v6.0.0. See https://github.com/optuna/optuna/releases/tag/v3.0.0. Use suggest_float instead.\n",
            "  'bagging_fraction': trial.suggest_uniform('bagging_fraction', 0.4, 1.0),\n",
            "[I 2025-05-29 05:53:34,440] Trial 78 finished with value: 1.4346133176366869 and parameters: {'num_leaves': 28, 'learning_rate': 0.06139459239189812, 'feature_fraction': 0.4777075688908252, 'bagging_fraction': 0.8909416878935048, 'bagging_freq': 1, 'min_child_samples': 18}. Best is trial 55 with value: 0.6924384000224034.\n",
            "<ipython-input-30-936ca12ff7ff>:7: FutureWarning: suggest_loguniform has been deprecated in v3.0.0. This feature will be removed in v6.0.0. See https://github.com/optuna/optuna/releases/tag/v3.0.0. Use suggest_float(..., log=True) instead.\n",
            "  'learning_rate': trial.suggest_loguniform('learning_rate', 0.01, 0.1),\n",
            "<ipython-input-30-936ca12ff7ff>:8: FutureWarning: suggest_uniform has been deprecated in v3.0.0. This feature will be removed in v6.0.0. See https://github.com/optuna/optuna/releases/tag/v3.0.0. Use suggest_float instead.\n",
            "  'feature_fraction': trial.suggest_uniform('feature_fraction', 0.4, 1.0),\n",
            "<ipython-input-30-936ca12ff7ff>:9: FutureWarning: suggest_uniform has been deprecated in v3.0.0. This feature will be removed in v6.0.0. See https://github.com/optuna/optuna/releases/tag/v3.0.0. Use suggest_float instead.\n",
            "  'bagging_fraction': trial.suggest_uniform('bagging_fraction', 0.4, 1.0),\n",
            "[I 2025-05-29 05:53:34,508] Trial 79 finished with value: 1.4499655251197467 and parameters: {'num_leaves': 25, 'learning_rate': 0.09360153502592275, 'feature_fraction': 0.4254482793676093, 'bagging_fraction': 0.9360787893013632, 'bagging_freq': 1, 'min_child_samples': 24}. Best is trial 55 with value: 0.6924384000224034.\n"
          ]
        },
        {
          "output_type": "stream",
          "name": "stdout",
          "text": [
            "Early stopping, best iteration is:\n",
            "[311]\tvalid_0's l1: 0.829188\n",
            "Training until validation scores don't improve for 50 rounds\n",
            "Early stopping, best iteration is:\n",
            "[20]\tvalid_0's l1: 1.43461\n",
            "Training until validation scores don't improve for 50 rounds\n",
            "Early stopping, best iteration is:\n",
            "[14]\tvalid_0's l1: 1.44997\n"
          ]
        },
        {
          "output_type": "stream",
          "name": "stderr",
          "text": [
            "<ipython-input-30-936ca12ff7ff>:7: FutureWarning: suggest_loguniform has been deprecated in v3.0.0. This feature will be removed in v6.0.0. See https://github.com/optuna/optuna/releases/tag/v3.0.0. Use suggest_float(..., log=True) instead.\n",
            "  'learning_rate': trial.suggest_loguniform('learning_rate', 0.01, 0.1),\n",
            "<ipython-input-30-936ca12ff7ff>:8: FutureWarning: suggest_uniform has been deprecated in v3.0.0. This feature will be removed in v6.0.0. See https://github.com/optuna/optuna/releases/tag/v3.0.0. Use suggest_float instead.\n",
            "  'feature_fraction': trial.suggest_uniform('feature_fraction', 0.4, 1.0),\n",
            "<ipython-input-30-936ca12ff7ff>:9: FutureWarning: suggest_uniform has been deprecated in v3.0.0. This feature will be removed in v6.0.0. See https://github.com/optuna/optuna/releases/tag/v3.0.0. Use suggest_float instead.\n",
            "  'bagging_fraction': trial.suggest_uniform('bagging_fraction', 0.4, 1.0),\n"
          ]
        },
        {
          "output_type": "stream",
          "name": "stdout",
          "text": [
            "Training until validation scores don't improve for 50 rounds\n"
          ]
        },
        {
          "output_type": "stream",
          "name": "stderr",
          "text": [
            "[I 2025-05-29 05:53:34,840] Trial 80 finished with value: 0.7865388446028595 and parameters: {'num_leaves': 22, 'learning_rate': 0.0723241892245103, 'feature_fraction': 0.553558419660265, 'bagging_fraction': 0.8518512680413199, 'bagging_freq': 3, 'min_child_samples': 15}. Best is trial 55 with value: 0.6924384000224034.\n"
          ]
        },
        {
          "output_type": "stream",
          "name": "stdout",
          "text": [
            "Early stopping, best iteration is:\n",
            "[452]\tvalid_0's l1: 0.786539\n",
            "Training until validation scores don't improve for 50 rounds\n"
          ]
        },
        {
          "output_type": "stream",
          "name": "stderr",
          "text": [
            "<ipython-input-30-936ca12ff7ff>:7: FutureWarning: suggest_loguniform has been deprecated in v3.0.0. This feature will be removed in v6.0.0. See https://github.com/optuna/optuna/releases/tag/v3.0.0. Use suggest_float(..., log=True) instead.\n",
            "  'learning_rate': trial.suggest_loguniform('learning_rate', 0.01, 0.1),\n",
            "<ipython-input-30-936ca12ff7ff>:8: FutureWarning: suggest_uniform has been deprecated in v3.0.0. This feature will be removed in v6.0.0. See https://github.com/optuna/optuna/releases/tag/v3.0.0. Use suggest_float instead.\n",
            "  'feature_fraction': trial.suggest_uniform('feature_fraction', 0.4, 1.0),\n",
            "<ipython-input-30-936ca12ff7ff>:9: FutureWarning: suggest_uniform has been deprecated in v3.0.0. This feature will be removed in v6.0.0. See https://github.com/optuna/optuna/releases/tag/v3.0.0. Use suggest_float instead.\n",
            "  'bagging_fraction': trial.suggest_uniform('bagging_fraction', 0.4, 1.0),\n",
            "[I 2025-05-29 05:53:35,028] Trial 81 finished with value: 0.886060786315833 and parameters: {'num_leaves': 35, 'learning_rate': 0.08083739050485356, 'feature_fraction': 0.48199092032837215, 'bagging_fraction': 0.8889647837145958, 'bagging_freq': 1, 'min_child_samples': 7}. Best is trial 55 with value: 0.6924384000224034.\n",
            "<ipython-input-30-936ca12ff7ff>:7: FutureWarning: suggest_loguniform has been deprecated in v3.0.0. This feature will be removed in v6.0.0. See https://github.com/optuna/optuna/releases/tag/v3.0.0. Use suggest_float(..., log=True) instead.\n",
            "  'learning_rate': trial.suggest_loguniform('learning_rate', 0.01, 0.1),\n",
            "<ipython-input-30-936ca12ff7ff>:8: FutureWarning: suggest_uniform has been deprecated in v3.0.0. This feature will be removed in v6.0.0. See https://github.com/optuna/optuna/releases/tag/v3.0.0. Use suggest_float instead.\n",
            "  'feature_fraction': trial.suggest_uniform('feature_fraction', 0.4, 1.0),\n",
            "<ipython-input-30-936ca12ff7ff>:9: FutureWarning: suggest_uniform has been deprecated in v3.0.0. This feature will be removed in v6.0.0. See https://github.com/optuna/optuna/releases/tag/v3.0.0. Use suggest_float instead.\n",
            "  'bagging_fraction': trial.suggest_uniform('bagging_fraction', 0.4, 1.0),\n"
          ]
        },
        {
          "output_type": "stream",
          "name": "stdout",
          "text": [
            "Early stopping, best iteration is:\n",
            "[179]\tvalid_0's l1: 0.886061\n",
            "Training until validation scores don't improve for 50 rounds\n"
          ]
        },
        {
          "output_type": "stream",
          "name": "stderr",
          "text": [
            "[I 2025-05-29 05:53:35,248] Trial 82 finished with value: 0.8650903289331149 and parameters: {'num_leaves': 31, 'learning_rate': 0.07646729735537956, 'feature_fraction': 0.40498981947570883, 'bagging_fraction': 0.8743626917238102, 'bagging_freq': 1, 'min_child_samples': 11}. Best is trial 55 with value: 0.6924384000224034.\n",
            "<ipython-input-30-936ca12ff7ff>:7: FutureWarning: suggest_loguniform has been deprecated in v3.0.0. This feature will be removed in v6.0.0. See https://github.com/optuna/optuna/releases/tag/v3.0.0. Use suggest_float(..., log=True) instead.\n",
            "  'learning_rate': trial.suggest_loguniform('learning_rate', 0.01, 0.1),\n",
            "<ipython-input-30-936ca12ff7ff>:8: FutureWarning: suggest_uniform has been deprecated in v3.0.0. This feature will be removed in v6.0.0. See https://github.com/optuna/optuna/releases/tag/v3.0.0. Use suggest_float instead.\n",
            "  'feature_fraction': trial.suggest_uniform('feature_fraction', 0.4, 1.0),\n",
            "<ipython-input-30-936ca12ff7ff>:9: FutureWarning: suggest_uniform has been deprecated in v3.0.0. This feature will be removed in v6.0.0. See https://github.com/optuna/optuna/releases/tag/v3.0.0. Use suggest_float instead.\n",
            "  'bagging_fraction': trial.suggest_uniform('bagging_fraction', 0.4, 1.0),\n",
            "[I 2025-05-29 05:53:35,409] Trial 83 finished with value: 0.9389787028164682 and parameters: {'num_leaves': 28, 'learning_rate': 0.08512370906721947, 'feature_fraction': 0.4402355157018605, 'bagging_fraction': 0.9110265089127728, 'bagging_freq': 2, 'min_child_samples': 5}. Best is trial 55 with value: 0.6924384000224034.\n"
          ]
        },
        {
          "output_type": "stream",
          "name": "stdout",
          "text": [
            "Early stopping, best iteration is:\n",
            "[238]\tvalid_0's l1: 0.86509\n",
            "Training until validation scores don't improve for 50 rounds\n",
            "Early stopping, best iteration is:\n",
            "[157]\tvalid_0's l1: 0.938979\n"
          ]
        },
        {
          "output_type": "stream",
          "name": "stderr",
          "text": [
            "<ipython-input-30-936ca12ff7ff>:7: FutureWarning: suggest_loguniform has been deprecated in v3.0.0. This feature will be removed in v6.0.0. See https://github.com/optuna/optuna/releases/tag/v3.0.0. Use suggest_float(..., log=True) instead.\n",
            "  'learning_rate': trial.suggest_loguniform('learning_rate', 0.01, 0.1),\n",
            "<ipython-input-30-936ca12ff7ff>:8: FutureWarning: suggest_uniform has been deprecated in v3.0.0. This feature will be removed in v6.0.0. See https://github.com/optuna/optuna/releases/tag/v3.0.0. Use suggest_float instead.\n",
            "  'feature_fraction': trial.suggest_uniform('feature_fraction', 0.4, 1.0),\n",
            "<ipython-input-30-936ca12ff7ff>:9: FutureWarning: suggest_uniform has been deprecated in v3.0.0. This feature will be removed in v6.0.0. See https://github.com/optuna/optuna/releases/tag/v3.0.0. Use suggest_float instead.\n",
            "  'bagging_fraction': trial.suggest_uniform('bagging_fraction', 0.4, 1.0),\n",
            "[I 2025-05-29 05:53:35,500] Trial 84 finished with value: 1.509658037256587 and parameters: {'num_leaves': 20, 'learning_rate': 0.06607470194255058, 'feature_fraction': 0.4850754502942132, 'bagging_fraction': 0.4039077197170658, 'bagging_freq': 1, 'min_child_samples': 10}. Best is trial 55 with value: 0.6924384000224034.\n",
            "<ipython-input-30-936ca12ff7ff>:7: FutureWarning: suggest_loguniform has been deprecated in v3.0.0. This feature will be removed in v6.0.0. See https://github.com/optuna/optuna/releases/tag/v3.0.0. Use suggest_float(..., log=True) instead.\n",
            "  'learning_rate': trial.suggest_loguniform('learning_rate', 0.01, 0.1),\n",
            "<ipython-input-30-936ca12ff7ff>:8: FutureWarning: suggest_uniform has been deprecated in v3.0.0. This feature will be removed in v6.0.0. See https://github.com/optuna/optuna/releases/tag/v3.0.0. Use suggest_float instead.\n",
            "  'feature_fraction': trial.suggest_uniform('feature_fraction', 0.4, 1.0),\n",
            "<ipython-input-30-936ca12ff7ff>:9: FutureWarning: suggest_uniform has been deprecated in v3.0.0. This feature will be removed in v6.0.0. See https://github.com/optuna/optuna/releases/tag/v3.0.0. Use suggest_float instead.\n",
            "  'bagging_fraction': trial.suggest_uniform('bagging_fraction', 0.4, 1.0),\n"
          ]
        },
        {
          "output_type": "stream",
          "name": "stdout",
          "text": [
            "Training until validation scores don't improve for 50 rounds\n",
            "Early stopping, best iteration is:\n",
            "[12]\tvalid_0's l1: 1.50966\n",
            "Training until validation scores don't improve for 50 rounds\n"
          ]
        },
        {
          "output_type": "stream",
          "name": "stderr",
          "text": [
            "[I 2025-05-29 05:53:35,856] Trial 85 finished with value: 0.889236831527974 and parameters: {'num_leaves': 45, 'learning_rate': 0.03704927428507685, 'feature_fraction': 0.46909884471553503, 'bagging_fraction': 0.9282268420622882, 'bagging_freq': 1, 'min_child_samples': 7}. Best is trial 55 with value: 0.6924384000224034.\n"
          ]
        },
        {
          "output_type": "stream",
          "name": "stdout",
          "text": [
            "Early stopping, best iteration is:\n",
            "[303]\tvalid_0's l1: 0.889237\n",
            "Training until validation scores don't improve for 50 rounds\n"
          ]
        },
        {
          "output_type": "stream",
          "name": "stderr",
          "text": [
            "<ipython-input-30-936ca12ff7ff>:7: FutureWarning: suggest_loguniform has been deprecated in v3.0.0. This feature will be removed in v6.0.0. See https://github.com/optuna/optuna/releases/tag/v3.0.0. Use suggest_float(..., log=True) instead.\n",
            "  'learning_rate': trial.suggest_loguniform('learning_rate', 0.01, 0.1),\n",
            "<ipython-input-30-936ca12ff7ff>:8: FutureWarning: suggest_uniform has been deprecated in v3.0.0. This feature will be removed in v6.0.0. See https://github.com/optuna/optuna/releases/tag/v3.0.0. Use suggest_float instead.\n",
            "  'feature_fraction': trial.suggest_uniform('feature_fraction', 0.4, 1.0),\n",
            "<ipython-input-30-936ca12ff7ff>:9: FutureWarning: suggest_uniform has been deprecated in v3.0.0. This feature will be removed in v6.0.0. See https://github.com/optuna/optuna/releases/tag/v3.0.0. Use suggest_float instead.\n",
            "  'bagging_fraction': trial.suggest_uniform('bagging_fraction', 0.4, 1.0),\n",
            "[I 2025-05-29 05:53:36,107] Trial 86 finished with value: 0.7735404023242829 and parameters: {'num_leaves': 32, 'learning_rate': 0.07056507360145271, 'feature_fraction': 0.5103287178624567, 'bagging_fraction': 0.8403831858098186, 'bagging_freq': 2, 'min_child_samples': 13}. Best is trial 55 with value: 0.6924384000224034.\n"
          ]
        },
        {
          "output_type": "stream",
          "name": "stdout",
          "text": [
            "Early stopping, best iteration is:\n",
            "[278]\tvalid_0's l1: 0.77354\n",
            "Training until validation scores don't improve for 50 rounds\n"
          ]
        },
        {
          "output_type": "stream",
          "name": "stderr",
          "text": [
            "<ipython-input-30-936ca12ff7ff>:7: FutureWarning: suggest_loguniform has been deprecated in v3.0.0. This feature will be removed in v6.0.0. See https://github.com/optuna/optuna/releases/tag/v3.0.0. Use suggest_float(..., log=True) instead.\n",
            "  'learning_rate': trial.suggest_loguniform('learning_rate', 0.01, 0.1),\n",
            "<ipython-input-30-936ca12ff7ff>:8: FutureWarning: suggest_uniform has been deprecated in v3.0.0. This feature will be removed in v6.0.0. See https://github.com/optuna/optuna/releases/tag/v3.0.0. Use suggest_float instead.\n",
            "  'feature_fraction': trial.suggest_uniform('feature_fraction', 0.4, 1.0),\n",
            "<ipython-input-30-936ca12ff7ff>:9: FutureWarning: suggest_uniform has been deprecated in v3.0.0. This feature will be removed in v6.0.0. See https://github.com/optuna/optuna/releases/tag/v3.0.0. Use suggest_float instead.\n",
            "  'bagging_fraction': trial.suggest_uniform('bagging_fraction', 0.4, 1.0),\n",
            "[I 2025-05-29 05:53:36,510] Trial 87 finished with value: 0.9149538805247122 and parameters: {'num_leaves': 52, 'learning_rate': 0.08067502445965757, 'feature_fraction': 0.4177035845224663, 'bagging_fraction': 0.8049104227133936, 'bagging_freq': 1, 'min_child_samples': 7}. Best is trial 55 with value: 0.6924384000224034.\n"
          ]
        },
        {
          "output_type": "stream",
          "name": "stdout",
          "text": [
            "Early stopping, best iteration is:\n",
            "[219]\tvalid_0's l1: 0.914954\n",
            "Training until validation scores don't improve for 50 rounds\n"
          ]
        },
        {
          "output_type": "stream",
          "name": "stderr",
          "text": [
            "<ipython-input-30-936ca12ff7ff>:7: FutureWarning: suggest_loguniform has been deprecated in v3.0.0. This feature will be removed in v6.0.0. See https://github.com/optuna/optuna/releases/tag/v3.0.0. Use suggest_float(..., log=True) instead.\n",
            "  'learning_rate': trial.suggest_loguniform('learning_rate', 0.01, 0.1),\n",
            "<ipython-input-30-936ca12ff7ff>:8: FutureWarning: suggest_uniform has been deprecated in v3.0.0. This feature will be removed in v6.0.0. See https://github.com/optuna/optuna/releases/tag/v3.0.0. Use suggest_float instead.\n",
            "  'feature_fraction': trial.suggest_uniform('feature_fraction', 0.4, 1.0),\n",
            "<ipython-input-30-936ca12ff7ff>:9: FutureWarning: suggest_uniform has been deprecated in v3.0.0. This feature will be removed in v6.0.0. See https://github.com/optuna/optuna/releases/tag/v3.0.0. Use suggest_float instead.\n",
            "  'bagging_fraction': trial.suggest_uniform('bagging_fraction', 0.4, 1.0),\n",
            "[I 2025-05-29 05:53:38,678] Trial 88 finished with value: 0.8487787295999843 and parameters: {'num_leaves': 35, 'learning_rate': 0.09565714364876413, 'feature_fraction': 0.45014655061148817, 'bagging_fraction': 0.9030734512356008, 'bagging_freq': 2, 'min_child_samples': 16}. Best is trial 55 with value: 0.6924384000224034.\n"
          ]
        },
        {
          "output_type": "stream",
          "name": "stdout",
          "text": [
            "Early stopping, best iteration is:\n",
            "[479]\tvalid_0's l1: 0.848778\n"
          ]
        },
        {
          "output_type": "stream",
          "name": "stderr",
          "text": [
            "<ipython-input-30-936ca12ff7ff>:7: FutureWarning: suggest_loguniform has been deprecated in v3.0.0. This feature will be removed in v6.0.0. See https://github.com/optuna/optuna/releases/tag/v3.0.0. Use suggest_float(..., log=True) instead.\n",
            "  'learning_rate': trial.suggest_loguniform('learning_rate', 0.01, 0.1),\n",
            "<ipython-input-30-936ca12ff7ff>:8: FutureWarning: suggest_uniform has been deprecated in v3.0.0. This feature will be removed in v6.0.0. See https://github.com/optuna/optuna/releases/tag/v3.0.0. Use suggest_float instead.\n",
            "  'feature_fraction': trial.suggest_uniform('feature_fraction', 0.4, 1.0),\n",
            "<ipython-input-30-936ca12ff7ff>:9: FutureWarning: suggest_uniform has been deprecated in v3.0.0. This feature will be removed in v6.0.0. See https://github.com/optuna/optuna/releases/tag/v3.0.0. Use suggest_float instead.\n",
            "  'bagging_fraction': trial.suggest_uniform('bagging_fraction', 0.4, 1.0),\n"
          ]
        },
        {
          "output_type": "stream",
          "name": "stdout",
          "text": [
            "Training until validation scores don't improve for 50 rounds\n",
            "Early stopping, best iteration is:\n",
            "[98]\tvalid_0's l1: 0.822746\n"
          ]
        },
        {
          "output_type": "stream",
          "name": "stderr",
          "text": [
            "[I 2025-05-29 05:53:38,986] Trial 89 finished with value: 0.8227460572219388 and parameters: {'num_leaves': 40, 'learning_rate': 0.08907687291586724, 'feature_fraction': 0.43033369953317235, 'bagging_fraction': 0.9546710788589556, 'bagging_freq': 1, 'min_child_samples': 10}. Best is trial 55 with value: 0.6924384000224034.\n"
          ]
        },
        {
          "output_type": "display_data",
          "data": {
            "text/plain": [
              "<Figure size 1200x600 with 1 Axes>"
            ],
            "image/png": "[encoded data removed]"
          },
          "metadata": {}
        },
        {
          "output_type": "display_data",
          "data": {
            "text/plain": [
              "<Figure size 1200x600 with 1 Axes>"
            ],
            "image/png": "[encoded data removed]"
          },
          "metadata": {}
        },
        {
          "output_type": "stream",
          "name": "stdout",
          "text": [
            "\n",
            "Predicted 2025 Emilia Romagna GP Results:\n",
            "   Driver  Predicted_Race_Time  Historical_Avg_Finish  Imola_Podiums\n",
            "8     NOR            81.334424                    4.2              1\n",
            "18    VER            81.345367                    2.1              3\n",
            "6     LEC            81.431590                    3.8              2\n",
            "11    PIA            81.537372                    8.0              0\n",
            "14    SAI            81.655766                    5.1              1\n",
            "4     HAM            81.818425                    3.2              4\n",
            "13    RUS            82.035467                    6.5              0\n",
            "10    PER            82.140511                    0.0              0\n",
            "16    STR            82.494435                   12.1              0\n",
            "17    TSU            82.871831                    9.2              0\n"
          ]
        }
      ]
    }
  ]
}